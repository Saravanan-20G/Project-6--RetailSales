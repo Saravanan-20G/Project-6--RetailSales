{
 "cells": [
  {
   "cell_type": "code",
   "execution_count": 1,
   "metadata": {},
   "outputs": [],
   "source": [
    "\n",
    "\n",
    "import pandas as pd\n",
    "import plotly.express as px\n",
    "import matplotlib.pyplot as plt\n",
    "import seaborn as sns\n",
    "\n",
    "from sklearn.preprocessing import LabelEncoder\n",
    "from sklearn.model_selection import train_test_split\n",
    "from sklearn.metrics import mean_squared_error, r2_score"
   ]
  },
  {
   "cell_type": "code",
   "execution_count": 2,
   "metadata": {},
   "outputs": [],
   "source": [
    "feature_df=pd.read_csv('C:\\\\Users\\\\Saravanan\\\\OneDrive\\\\Desktop\\\\Retail_sales(Final Project)\\\\Features_data_set.csv')\n",
    "sales_df=pd.read_csv('C:\\\\Users\\\\Saravanan\\\\OneDrive\\\\Desktop\\\\Retail_sales(Final Project)\\\\\\sales_data_set.csv')\n",
    "store_df=pd.read_csv('C:\\\\Users\\\\Saravanan\\\\OneDrive\\Desktop\\\\Retail_sales(Final Project)\\\\stores_data_set.csv')\n"
   ]
  },
  {
   "cell_type": "code",
   "execution_count": 3,
   "metadata": {},
   "outputs": [
    {
     "data": {
      "text/html": [
       "<div>\n",
       "<style scoped>\n",
       "    .dataframe tbody tr th:only-of-type {\n",
       "        vertical-align: middle;\n",
       "    }\n",
       "\n",
       "    .dataframe tbody tr th {\n",
       "        vertical-align: top;\n",
       "    }\n",
       "\n",
       "    .dataframe thead th {\n",
       "        text-align: right;\n",
       "    }\n",
       "</style>\n",
       "<table border=\"1\" class=\"dataframe\">\n",
       "  <thead>\n",
       "    <tr style=\"text-align: right;\">\n",
       "      <th></th>\n",
       "      <th>Store</th>\n",
       "      <th>Date</th>\n",
       "      <th>Temperature</th>\n",
       "      <th>Fuel_Price</th>\n",
       "      <th>MarkDown1</th>\n",
       "      <th>MarkDown2</th>\n",
       "      <th>MarkDown3</th>\n",
       "      <th>MarkDown4</th>\n",
       "      <th>MarkDown5</th>\n",
       "      <th>CPI</th>\n",
       "      <th>Unemployment</th>\n",
       "      <th>IsHoliday</th>\n",
       "    </tr>\n",
       "  </thead>\n",
       "  <tbody>\n",
       "    <tr>\n",
       "      <th>0</th>\n",
       "      <td>1</td>\n",
       "      <td>05/02/2010</td>\n",
       "      <td>42.31</td>\n",
       "      <td>2.572</td>\n",
       "      <td>NaN</td>\n",
       "      <td>NaN</td>\n",
       "      <td>NaN</td>\n",
       "      <td>NaN</td>\n",
       "      <td>NaN</td>\n",
       "      <td>211.096358</td>\n",
       "      <td>8.106</td>\n",
       "      <td>False</td>\n",
       "    </tr>\n",
       "    <tr>\n",
       "      <th>1</th>\n",
       "      <td>1</td>\n",
       "      <td>12/02/2010</td>\n",
       "      <td>38.51</td>\n",
       "      <td>2.548</td>\n",
       "      <td>NaN</td>\n",
       "      <td>NaN</td>\n",
       "      <td>NaN</td>\n",
       "      <td>NaN</td>\n",
       "      <td>NaN</td>\n",
       "      <td>211.242170</td>\n",
       "      <td>8.106</td>\n",
       "      <td>True</td>\n",
       "    </tr>\n",
       "    <tr>\n",
       "      <th>2</th>\n",
       "      <td>1</td>\n",
       "      <td>19/02/2010</td>\n",
       "      <td>39.93</td>\n",
       "      <td>2.514</td>\n",
       "      <td>NaN</td>\n",
       "      <td>NaN</td>\n",
       "      <td>NaN</td>\n",
       "      <td>NaN</td>\n",
       "      <td>NaN</td>\n",
       "      <td>211.289143</td>\n",
       "      <td>8.106</td>\n",
       "      <td>False</td>\n",
       "    </tr>\n",
       "    <tr>\n",
       "      <th>3</th>\n",
       "      <td>1</td>\n",
       "      <td>26/02/2010</td>\n",
       "      <td>46.63</td>\n",
       "      <td>2.561</td>\n",
       "      <td>NaN</td>\n",
       "      <td>NaN</td>\n",
       "      <td>NaN</td>\n",
       "      <td>NaN</td>\n",
       "      <td>NaN</td>\n",
       "      <td>211.319643</td>\n",
       "      <td>8.106</td>\n",
       "      <td>False</td>\n",
       "    </tr>\n",
       "    <tr>\n",
       "      <th>4</th>\n",
       "      <td>1</td>\n",
       "      <td>05/03/2010</td>\n",
       "      <td>46.50</td>\n",
       "      <td>2.625</td>\n",
       "      <td>NaN</td>\n",
       "      <td>NaN</td>\n",
       "      <td>NaN</td>\n",
       "      <td>NaN</td>\n",
       "      <td>NaN</td>\n",
       "      <td>211.350143</td>\n",
       "      <td>8.106</td>\n",
       "      <td>False</td>\n",
       "    </tr>\n",
       "  </tbody>\n",
       "</table>\n",
       "</div>"
      ],
      "text/plain": [
       "   Store        Date  Temperature  Fuel_Price  MarkDown1  MarkDown2  \\\n",
       "0      1  05/02/2010        42.31       2.572        NaN        NaN   \n",
       "1      1  12/02/2010        38.51       2.548        NaN        NaN   \n",
       "2      1  19/02/2010        39.93       2.514        NaN        NaN   \n",
       "3      1  26/02/2010        46.63       2.561        NaN        NaN   \n",
       "4      1  05/03/2010        46.50       2.625        NaN        NaN   \n",
       "\n",
       "   MarkDown3  MarkDown4  MarkDown5         CPI  Unemployment  IsHoliday  \n",
       "0        NaN        NaN        NaN  211.096358         8.106      False  \n",
       "1        NaN        NaN        NaN  211.242170         8.106       True  \n",
       "2        NaN        NaN        NaN  211.289143         8.106      False  \n",
       "3        NaN        NaN        NaN  211.319643         8.106      False  \n",
       "4        NaN        NaN        NaN  211.350143         8.106      False  "
      ]
     },
     "execution_count": 3,
     "metadata": {},
     "output_type": "execute_result"
    }
   ],
   "source": [
    "feature_df.head()"
   ]
  },
  {
   "cell_type": "code",
   "execution_count": 4,
   "metadata": {},
   "outputs": [
    {
     "name": "stdout",
     "output_type": "stream",
     "text": [
      "<class 'pandas.core.frame.DataFrame'>\n",
      "RangeIndex: 8190 entries, 0 to 8189\n",
      "Data columns (total 12 columns):\n",
      " #   Column        Non-Null Count  Dtype  \n",
      "---  ------        --------------  -----  \n",
      " 0   Store         8190 non-null   int64  \n",
      " 1   Date          8190 non-null   object \n",
      " 2   Temperature   8190 non-null   float64\n",
      " 3   Fuel_Price    8190 non-null   float64\n",
      " 4   MarkDown1     4032 non-null   float64\n",
      " 5   MarkDown2     2921 non-null   float64\n",
      " 6   MarkDown3     3613 non-null   float64\n",
      " 7   MarkDown4     3464 non-null   float64\n",
      " 8   MarkDown5     4050 non-null   float64\n",
      " 9   CPI           7605 non-null   float64\n",
      " 10  Unemployment  7605 non-null   float64\n",
      " 11  IsHoliday     8190 non-null   bool   \n",
      "dtypes: bool(1), float64(9), int64(1), object(1)\n",
      "memory usage: 712.0+ KB\n"
     ]
    }
   ],
   "source": [
    "feature_df.info()"
   ]
  },
  {
   "cell_type": "code",
   "execution_count": 5,
   "metadata": {},
   "outputs": [],
   "source": [
    "\n",
    "feature_df['Date'] = pd.to_datetime(feature_df['Date'], format='%d/%m/%Y')\n",
    "     "
   ]
  },
  {
   "cell_type": "code",
   "execution_count": 6,
   "metadata": {},
   "outputs": [
    {
     "data": {
      "text/html": [
       "<div>\n",
       "<style scoped>\n",
       "    .dataframe tbody tr th:only-of-type {\n",
       "        vertical-align: middle;\n",
       "    }\n",
       "\n",
       "    .dataframe tbody tr th {\n",
       "        vertical-align: top;\n",
       "    }\n",
       "\n",
       "    .dataframe thead th {\n",
       "        text-align: right;\n",
       "    }\n",
       "</style>\n",
       "<table border=\"1\" class=\"dataframe\">\n",
       "  <thead>\n",
       "    <tr style=\"text-align: right;\">\n",
       "      <th></th>\n",
       "      <th>Store</th>\n",
       "      <th>Date</th>\n",
       "      <th>Temperature</th>\n",
       "      <th>Fuel_Price</th>\n",
       "      <th>MarkDown1</th>\n",
       "      <th>MarkDown2</th>\n",
       "      <th>MarkDown3</th>\n",
       "      <th>MarkDown4</th>\n",
       "      <th>MarkDown5</th>\n",
       "      <th>CPI</th>\n",
       "      <th>Unemployment</th>\n",
       "      <th>IsHoliday</th>\n",
       "    </tr>\n",
       "  </thead>\n",
       "  <tbody>\n",
       "    <tr>\n",
       "      <th>0</th>\n",
       "      <td>1</td>\n",
       "      <td>2010-02-05</td>\n",
       "      <td>42.31</td>\n",
       "      <td>2.572</td>\n",
       "      <td>NaN</td>\n",
       "      <td>NaN</td>\n",
       "      <td>NaN</td>\n",
       "      <td>NaN</td>\n",
       "      <td>NaN</td>\n",
       "      <td>211.096358</td>\n",
       "      <td>8.106</td>\n",
       "      <td>False</td>\n",
       "    </tr>\n",
       "    <tr>\n",
       "      <th>1</th>\n",
       "      <td>1</td>\n",
       "      <td>2010-02-12</td>\n",
       "      <td>38.51</td>\n",
       "      <td>2.548</td>\n",
       "      <td>NaN</td>\n",
       "      <td>NaN</td>\n",
       "      <td>NaN</td>\n",
       "      <td>NaN</td>\n",
       "      <td>NaN</td>\n",
       "      <td>211.242170</td>\n",
       "      <td>8.106</td>\n",
       "      <td>True</td>\n",
       "    </tr>\n",
       "    <tr>\n",
       "      <th>2</th>\n",
       "      <td>1</td>\n",
       "      <td>2010-02-19</td>\n",
       "      <td>39.93</td>\n",
       "      <td>2.514</td>\n",
       "      <td>NaN</td>\n",
       "      <td>NaN</td>\n",
       "      <td>NaN</td>\n",
       "      <td>NaN</td>\n",
       "      <td>NaN</td>\n",
       "      <td>211.289143</td>\n",
       "      <td>8.106</td>\n",
       "      <td>False</td>\n",
       "    </tr>\n",
       "    <tr>\n",
       "      <th>3</th>\n",
       "      <td>1</td>\n",
       "      <td>2010-02-26</td>\n",
       "      <td>46.63</td>\n",
       "      <td>2.561</td>\n",
       "      <td>NaN</td>\n",
       "      <td>NaN</td>\n",
       "      <td>NaN</td>\n",
       "      <td>NaN</td>\n",
       "      <td>NaN</td>\n",
       "      <td>211.319643</td>\n",
       "      <td>8.106</td>\n",
       "      <td>False</td>\n",
       "    </tr>\n",
       "    <tr>\n",
       "      <th>4</th>\n",
       "      <td>1</td>\n",
       "      <td>2010-03-05</td>\n",
       "      <td>46.50</td>\n",
       "      <td>2.625</td>\n",
       "      <td>NaN</td>\n",
       "      <td>NaN</td>\n",
       "      <td>NaN</td>\n",
       "      <td>NaN</td>\n",
       "      <td>NaN</td>\n",
       "      <td>211.350143</td>\n",
       "      <td>8.106</td>\n",
       "      <td>False</td>\n",
       "    </tr>\n",
       "    <tr>\n",
       "      <th>...</th>\n",
       "      <td>...</td>\n",
       "      <td>...</td>\n",
       "      <td>...</td>\n",
       "      <td>...</td>\n",
       "      <td>...</td>\n",
       "      <td>...</td>\n",
       "      <td>...</td>\n",
       "      <td>...</td>\n",
       "      <td>...</td>\n",
       "      <td>...</td>\n",
       "      <td>...</td>\n",
       "      <td>...</td>\n",
       "    </tr>\n",
       "    <tr>\n",
       "      <th>8185</th>\n",
       "      <td>45</td>\n",
       "      <td>2013-06-28</td>\n",
       "      <td>76.05</td>\n",
       "      <td>3.639</td>\n",
       "      <td>4842.29</td>\n",
       "      <td>975.03</td>\n",
       "      <td>3.00</td>\n",
       "      <td>2449.97</td>\n",
       "      <td>3169.69</td>\n",
       "      <td>NaN</td>\n",
       "      <td>NaN</td>\n",
       "      <td>False</td>\n",
       "    </tr>\n",
       "    <tr>\n",
       "      <th>8186</th>\n",
       "      <td>45</td>\n",
       "      <td>2013-07-05</td>\n",
       "      <td>77.50</td>\n",
       "      <td>3.614</td>\n",
       "      <td>9090.48</td>\n",
       "      <td>2268.58</td>\n",
       "      <td>582.74</td>\n",
       "      <td>5797.47</td>\n",
       "      <td>1514.93</td>\n",
       "      <td>NaN</td>\n",
       "      <td>NaN</td>\n",
       "      <td>False</td>\n",
       "    </tr>\n",
       "    <tr>\n",
       "      <th>8187</th>\n",
       "      <td>45</td>\n",
       "      <td>2013-07-12</td>\n",
       "      <td>79.37</td>\n",
       "      <td>3.614</td>\n",
       "      <td>3789.94</td>\n",
       "      <td>1827.31</td>\n",
       "      <td>85.72</td>\n",
       "      <td>744.84</td>\n",
       "      <td>2150.36</td>\n",
       "      <td>NaN</td>\n",
       "      <td>NaN</td>\n",
       "      <td>False</td>\n",
       "    </tr>\n",
       "    <tr>\n",
       "      <th>8188</th>\n",
       "      <td>45</td>\n",
       "      <td>2013-07-19</td>\n",
       "      <td>82.84</td>\n",
       "      <td>3.737</td>\n",
       "      <td>2961.49</td>\n",
       "      <td>1047.07</td>\n",
       "      <td>204.19</td>\n",
       "      <td>363.00</td>\n",
       "      <td>1059.46</td>\n",
       "      <td>NaN</td>\n",
       "      <td>NaN</td>\n",
       "      <td>False</td>\n",
       "    </tr>\n",
       "    <tr>\n",
       "      <th>8189</th>\n",
       "      <td>45</td>\n",
       "      <td>2013-07-26</td>\n",
       "      <td>76.06</td>\n",
       "      <td>3.804</td>\n",
       "      <td>212.02</td>\n",
       "      <td>851.73</td>\n",
       "      <td>2.06</td>\n",
       "      <td>10.88</td>\n",
       "      <td>1864.57</td>\n",
       "      <td>NaN</td>\n",
       "      <td>NaN</td>\n",
       "      <td>False</td>\n",
       "    </tr>\n",
       "  </tbody>\n",
       "</table>\n",
       "<p>8190 rows × 12 columns</p>\n",
       "</div>"
      ],
      "text/plain": [
       "      Store       Date  Temperature  Fuel_Price  MarkDown1  MarkDown2  \\\n",
       "0         1 2010-02-05        42.31       2.572        NaN        NaN   \n",
       "1         1 2010-02-12        38.51       2.548        NaN        NaN   \n",
       "2         1 2010-02-19        39.93       2.514        NaN        NaN   \n",
       "3         1 2010-02-26        46.63       2.561        NaN        NaN   \n",
       "4         1 2010-03-05        46.50       2.625        NaN        NaN   \n",
       "...     ...        ...          ...         ...        ...        ...   \n",
       "8185     45 2013-06-28        76.05       3.639    4842.29     975.03   \n",
       "8186     45 2013-07-05        77.50       3.614    9090.48    2268.58   \n",
       "8187     45 2013-07-12        79.37       3.614    3789.94    1827.31   \n",
       "8188     45 2013-07-19        82.84       3.737    2961.49    1047.07   \n",
       "8189     45 2013-07-26        76.06       3.804     212.02     851.73   \n",
       "\n",
       "      MarkDown3  MarkDown4  MarkDown5         CPI  Unemployment  IsHoliday  \n",
       "0           NaN        NaN        NaN  211.096358         8.106      False  \n",
       "1           NaN        NaN        NaN  211.242170         8.106       True  \n",
       "2           NaN        NaN        NaN  211.289143         8.106      False  \n",
       "3           NaN        NaN        NaN  211.319643         8.106      False  \n",
       "4           NaN        NaN        NaN  211.350143         8.106      False  \n",
       "...         ...        ...        ...         ...           ...        ...  \n",
       "8185       3.00    2449.97    3169.69         NaN           NaN      False  \n",
       "8186     582.74    5797.47    1514.93         NaN           NaN      False  \n",
       "8187      85.72     744.84    2150.36         NaN           NaN      False  \n",
       "8188     204.19     363.00    1059.46         NaN           NaN      False  \n",
       "8189       2.06      10.88    1864.57         NaN           NaN      False  \n",
       "\n",
       "[8190 rows x 12 columns]"
      ]
     },
     "execution_count": 6,
     "metadata": {},
     "output_type": "execute_result"
    }
   ],
   "source": [
    "feature_df"
   ]
  },
  {
   "cell_type": "code",
   "execution_count": 7,
   "metadata": {},
   "outputs": [
    {
     "data": {
      "text/plain": [
       "Store              0\n",
       "Date               0\n",
       "Temperature        0\n",
       "Fuel_Price         0\n",
       "MarkDown1       4158\n",
       "MarkDown2       5269\n",
       "MarkDown3       4577\n",
       "MarkDown4       4726\n",
       "MarkDown5       4140\n",
       "CPI              585\n",
       "Unemployment     585\n",
       "IsHoliday          0\n",
       "dtype: int64"
      ]
     },
     "execution_count": 7,
     "metadata": {},
     "output_type": "execute_result"
    }
   ],
   "source": [
    "feature_df.isnull().sum()"
   ]
  },
  {
   "cell_type": "code",
   "execution_count": 8,
   "metadata": {},
   "outputs": [
    {
     "name": "stderr",
     "output_type": "stream",
     "text": [
      "C:\\Users\\Saravanan\\AppData\\Local\\Temp\\ipykernel_16932\\2209367885.py:1: FutureWarning: A value is trying to be set on a copy of a DataFrame or Series through chained assignment using an inplace method.\n",
      "The behavior will change in pandas 3.0. This inplace method will never work because the intermediate object on which we are setting values always behaves as a copy.\n",
      "\n",
      "For example, when doing 'df[col].method(value, inplace=True)', try using 'df.method({col: value}, inplace=True)' or df[col] = df[col].method(value) instead, to perform the operation inplace on the original object.\n",
      "\n",
      "\n",
      "  feature_df.MarkDown1.fillna(0, inplace = True)\n",
      "C:\\Users\\Saravanan\\AppData\\Local\\Temp\\ipykernel_16932\\2209367885.py:2: FutureWarning: A value is trying to be set on a copy of a DataFrame or Series through chained assignment using an inplace method.\n",
      "The behavior will change in pandas 3.0. This inplace method will never work because the intermediate object on which we are setting values always behaves as a copy.\n",
      "\n",
      "For example, when doing 'df[col].method(value, inplace=True)', try using 'df.method({col: value}, inplace=True)' or df[col] = df[col].method(value) instead, to perform the operation inplace on the original object.\n",
      "\n",
      "\n",
      "  feature_df.MarkDown2.fillna(0, inplace = True)\n",
      "C:\\Users\\Saravanan\\AppData\\Local\\Temp\\ipykernel_16932\\2209367885.py:3: FutureWarning: A value is trying to be set on a copy of a DataFrame or Series through chained assignment using an inplace method.\n",
      "The behavior will change in pandas 3.0. This inplace method will never work because the intermediate object on which we are setting values always behaves as a copy.\n",
      "\n",
      "For example, when doing 'df[col].method(value, inplace=True)', try using 'df.method({col: value}, inplace=True)' or df[col] = df[col].method(value) instead, to perform the operation inplace on the original object.\n",
      "\n",
      "\n",
      "  feature_df.MarkDown3.fillna(0, inplace = True)\n",
      "C:\\Users\\Saravanan\\AppData\\Local\\Temp\\ipykernel_16932\\2209367885.py:4: FutureWarning: A value is trying to be set on a copy of a DataFrame or Series through chained assignment using an inplace method.\n",
      "The behavior will change in pandas 3.0. This inplace method will never work because the intermediate object on which we are setting values always behaves as a copy.\n",
      "\n",
      "For example, when doing 'df[col].method(value, inplace=True)', try using 'df.method({col: value}, inplace=True)' or df[col] = df[col].method(value) instead, to perform the operation inplace on the original object.\n",
      "\n",
      "\n",
      "  feature_df.MarkDown4.fillna(0, inplace = True)\n",
      "C:\\Users\\Saravanan\\AppData\\Local\\Temp\\ipykernel_16932\\2209367885.py:5: FutureWarning: A value is trying to be set on a copy of a DataFrame or Series through chained assignment using an inplace method.\n",
      "The behavior will change in pandas 3.0. This inplace method will never work because the intermediate object on which we are setting values always behaves as a copy.\n",
      "\n",
      "For example, when doing 'df[col].method(value, inplace=True)', try using 'df.method({col: value}, inplace=True)' or df[col] = df[col].method(value) instead, to perform the operation inplace on the original object.\n",
      "\n",
      "\n",
      "  feature_df.MarkDown5.fillna(0, inplace = True)\n"
     ]
    }
   ],
   "source": [
    "\n",
    "feature_df.MarkDown1.fillna(0, inplace = True)\n",
    "feature_df.MarkDown2.fillna(0, inplace = True)\n",
    "feature_df.MarkDown3.fillna(0, inplace = True)\n",
    "feature_df.MarkDown4.fillna(0, inplace = True)\n",
    "feature_df.MarkDown5.fillna(0, inplace = True)"
   ]
  },
  {
   "cell_type": "code",
   "execution_count": 9,
   "metadata": {},
   "outputs": [
    {
     "data": {
      "text/plain": [
       "Store             0\n",
       "Date              0\n",
       "Temperature       0\n",
       "Fuel_Price        0\n",
       "MarkDown1         0\n",
       "MarkDown2         0\n",
       "MarkDown3         0\n",
       "MarkDown4         0\n",
       "MarkDown5         0\n",
       "CPI             585\n",
       "Unemployment    585\n",
       "IsHoliday         0\n",
       "dtype: int64"
      ]
     },
     "execution_count": 9,
     "metadata": {},
     "output_type": "execute_result"
    }
   ],
   "source": [
    "feature_df.isnull().sum()"
   ]
  },
  {
   "cell_type": "code",
   "execution_count": 10,
   "metadata": {},
   "outputs": [
    {
     "data": {
      "text/html": [
       "<div>\n",
       "<style scoped>\n",
       "    .dataframe tbody tr th:only-of-type {\n",
       "        vertical-align: middle;\n",
       "    }\n",
       "\n",
       "    .dataframe tbody tr th {\n",
       "        vertical-align: top;\n",
       "    }\n",
       "\n",
       "    .dataframe thead th {\n",
       "        text-align: right;\n",
       "    }\n",
       "</style>\n",
       "<table border=\"1\" class=\"dataframe\">\n",
       "  <thead>\n",
       "    <tr style=\"text-align: right;\">\n",
       "      <th></th>\n",
       "      <th>Store</th>\n",
       "      <th>Dept</th>\n",
       "      <th>Date</th>\n",
       "      <th>Weekly_Sales</th>\n",
       "      <th>IsHoliday</th>\n",
       "    </tr>\n",
       "  </thead>\n",
       "  <tbody>\n",
       "    <tr>\n",
       "      <th>0</th>\n",
       "      <td>1</td>\n",
       "      <td>1</td>\n",
       "      <td>05/02/2010</td>\n",
       "      <td>24924.50</td>\n",
       "      <td>False</td>\n",
       "    </tr>\n",
       "    <tr>\n",
       "      <th>1</th>\n",
       "      <td>1</td>\n",
       "      <td>1</td>\n",
       "      <td>12/02/2010</td>\n",
       "      <td>46039.49</td>\n",
       "      <td>True</td>\n",
       "    </tr>\n",
       "    <tr>\n",
       "      <th>2</th>\n",
       "      <td>1</td>\n",
       "      <td>1</td>\n",
       "      <td>19/02/2010</td>\n",
       "      <td>41595.55</td>\n",
       "      <td>False</td>\n",
       "    </tr>\n",
       "    <tr>\n",
       "      <th>3</th>\n",
       "      <td>1</td>\n",
       "      <td>1</td>\n",
       "      <td>26/02/2010</td>\n",
       "      <td>19403.54</td>\n",
       "      <td>False</td>\n",
       "    </tr>\n",
       "    <tr>\n",
       "      <th>4</th>\n",
       "      <td>1</td>\n",
       "      <td>1</td>\n",
       "      <td>05/03/2010</td>\n",
       "      <td>21827.90</td>\n",
       "      <td>False</td>\n",
       "    </tr>\n",
       "  </tbody>\n",
       "</table>\n",
       "</div>"
      ],
      "text/plain": [
       "   Store  Dept        Date  Weekly_Sales  IsHoliday\n",
       "0      1     1  05/02/2010      24924.50      False\n",
       "1      1     1  12/02/2010      46039.49       True\n",
       "2      1     1  19/02/2010      41595.55      False\n",
       "3      1     1  26/02/2010      19403.54      False\n",
       "4      1     1  05/03/2010      21827.90      False"
      ]
     },
     "execution_count": 10,
     "metadata": {},
     "output_type": "execute_result"
    }
   ],
   "source": [
    "sales_df.head()"
   ]
  },
  {
   "cell_type": "code",
   "execution_count": 11,
   "metadata": {},
   "outputs": [
    {
     "name": "stdout",
     "output_type": "stream",
     "text": [
      "<class 'pandas.core.frame.DataFrame'>\n",
      "RangeIndex: 421570 entries, 0 to 421569\n",
      "Data columns (total 5 columns):\n",
      " #   Column        Non-Null Count   Dtype  \n",
      "---  ------        --------------   -----  \n",
      " 0   Store         421570 non-null  int64  \n",
      " 1   Dept          421570 non-null  int64  \n",
      " 2   Date          421570 non-null  object \n",
      " 3   Weekly_Sales  421570 non-null  float64\n",
      " 4   IsHoliday     421570 non-null  bool   \n",
      "dtypes: bool(1), float64(1), int64(2), object(1)\n",
      "memory usage: 13.3+ MB\n"
     ]
    }
   ],
   "source": [
    "sales_df.info()"
   ]
  },
  {
   "cell_type": "code",
   "execution_count": 12,
   "metadata": {},
   "outputs": [],
   "source": [
    "sales_df['Date'] = pd.to_datetime(sales_df['Date'], format='%d/%m/%Y')"
   ]
  },
  {
   "cell_type": "code",
   "execution_count": 13,
   "metadata": {},
   "outputs": [
    {
     "data": {
      "text/html": [
       "<div>\n",
       "<style scoped>\n",
       "    .dataframe tbody tr th:only-of-type {\n",
       "        vertical-align: middle;\n",
       "    }\n",
       "\n",
       "    .dataframe tbody tr th {\n",
       "        vertical-align: top;\n",
       "    }\n",
       "\n",
       "    .dataframe thead th {\n",
       "        text-align: right;\n",
       "    }\n",
       "</style>\n",
       "<table border=\"1\" class=\"dataframe\">\n",
       "  <thead>\n",
       "    <tr style=\"text-align: right;\">\n",
       "      <th></th>\n",
       "      <th>Store</th>\n",
       "      <th>Type</th>\n",
       "      <th>Size</th>\n",
       "    </tr>\n",
       "  </thead>\n",
       "  <tbody>\n",
       "    <tr>\n",
       "      <th>0</th>\n",
       "      <td>1</td>\n",
       "      <td>A</td>\n",
       "      <td>151315</td>\n",
       "    </tr>\n",
       "    <tr>\n",
       "      <th>1</th>\n",
       "      <td>2</td>\n",
       "      <td>A</td>\n",
       "      <td>202307</td>\n",
       "    </tr>\n",
       "    <tr>\n",
       "      <th>2</th>\n",
       "      <td>3</td>\n",
       "      <td>B</td>\n",
       "      <td>37392</td>\n",
       "    </tr>\n",
       "    <tr>\n",
       "      <th>3</th>\n",
       "      <td>4</td>\n",
       "      <td>A</td>\n",
       "      <td>205863</td>\n",
       "    </tr>\n",
       "    <tr>\n",
       "      <th>4</th>\n",
       "      <td>5</td>\n",
       "      <td>B</td>\n",
       "      <td>34875</td>\n",
       "    </tr>\n",
       "  </tbody>\n",
       "</table>\n",
       "</div>"
      ],
      "text/plain": [
       "   Store Type    Size\n",
       "0      1    A  151315\n",
       "1      2    A  202307\n",
       "2      3    B   37392\n",
       "3      4    A  205863\n",
       "4      5    B   34875"
      ]
     },
     "execution_count": 13,
     "metadata": {},
     "output_type": "execute_result"
    }
   ],
   "source": [
    "store_df.head()"
   ]
  },
  {
   "cell_type": "code",
   "execution_count": 14,
   "metadata": {},
   "outputs": [
    {
     "name": "stdout",
     "output_type": "stream",
     "text": [
      "<class 'pandas.core.frame.DataFrame'>\n",
      "RangeIndex: 45 entries, 0 to 44\n",
      "Data columns (total 3 columns):\n",
      " #   Column  Non-Null Count  Dtype \n",
      "---  ------  --------------  ----- \n",
      " 0   Store   45 non-null     int64 \n",
      " 1   Type    45 non-null     object\n",
      " 2   Size    45 non-null     int64 \n",
      "dtypes: int64(2), object(1)\n",
      "memory usage: 1.2+ KB\n"
     ]
    }
   ],
   "source": [
    "store_df.info()"
   ]
  },
  {
   "cell_type": "code",
   "execution_count": 15,
   "metadata": {},
   "outputs": [
    {
     "data": {
      "text/html": [
       "<div>\n",
       "<style scoped>\n",
       "    .dataframe tbody tr th:only-of-type {\n",
       "        vertical-align: middle;\n",
       "    }\n",
       "\n",
       "    .dataframe tbody tr th {\n",
       "        vertical-align: top;\n",
       "    }\n",
       "\n",
       "    .dataframe thead th {\n",
       "        text-align: right;\n",
       "    }\n",
       "</style>\n",
       "<table border=\"1\" class=\"dataframe\">\n",
       "  <thead>\n",
       "    <tr style=\"text-align: right;\">\n",
       "      <th></th>\n",
       "      <th>Store</th>\n",
       "      <th>Date</th>\n",
       "      <th>Temperature</th>\n",
       "      <th>Fuel_Price</th>\n",
       "      <th>MarkDown1</th>\n",
       "      <th>MarkDown2</th>\n",
       "      <th>MarkDown3</th>\n",
       "      <th>MarkDown4</th>\n",
       "      <th>MarkDown5</th>\n",
       "      <th>CPI</th>\n",
       "      <th>Unemployment</th>\n",
       "      <th>IsHoliday_x</th>\n",
       "      <th>Dept</th>\n",
       "      <th>Weekly_Sales</th>\n",
       "      <th>IsHoliday_y</th>\n",
       "    </tr>\n",
       "  </thead>\n",
       "  <tbody>\n",
       "    <tr>\n",
       "      <th>0</th>\n",
       "      <td>1</td>\n",
       "      <td>2010-02-05</td>\n",
       "      <td>42.31</td>\n",
       "      <td>2.572</td>\n",
       "      <td>0.0</td>\n",
       "      <td>0.0</td>\n",
       "      <td>0.0</td>\n",
       "      <td>0.0</td>\n",
       "      <td>0.0</td>\n",
       "      <td>211.096358</td>\n",
       "      <td>8.106</td>\n",
       "      <td>False</td>\n",
       "      <td>1</td>\n",
       "      <td>24924.50</td>\n",
       "      <td>False</td>\n",
       "    </tr>\n",
       "    <tr>\n",
       "      <th>1</th>\n",
       "      <td>1</td>\n",
       "      <td>2010-02-05</td>\n",
       "      <td>42.31</td>\n",
       "      <td>2.572</td>\n",
       "      <td>0.0</td>\n",
       "      <td>0.0</td>\n",
       "      <td>0.0</td>\n",
       "      <td>0.0</td>\n",
       "      <td>0.0</td>\n",
       "      <td>211.096358</td>\n",
       "      <td>8.106</td>\n",
       "      <td>False</td>\n",
       "      <td>2</td>\n",
       "      <td>50605.27</td>\n",
       "      <td>False</td>\n",
       "    </tr>\n",
       "    <tr>\n",
       "      <th>2</th>\n",
       "      <td>1</td>\n",
       "      <td>2010-02-05</td>\n",
       "      <td>42.31</td>\n",
       "      <td>2.572</td>\n",
       "      <td>0.0</td>\n",
       "      <td>0.0</td>\n",
       "      <td>0.0</td>\n",
       "      <td>0.0</td>\n",
       "      <td>0.0</td>\n",
       "      <td>211.096358</td>\n",
       "      <td>8.106</td>\n",
       "      <td>False</td>\n",
       "      <td>3</td>\n",
       "      <td>13740.12</td>\n",
       "      <td>False</td>\n",
       "    </tr>\n",
       "    <tr>\n",
       "      <th>3</th>\n",
       "      <td>1</td>\n",
       "      <td>2010-02-05</td>\n",
       "      <td>42.31</td>\n",
       "      <td>2.572</td>\n",
       "      <td>0.0</td>\n",
       "      <td>0.0</td>\n",
       "      <td>0.0</td>\n",
       "      <td>0.0</td>\n",
       "      <td>0.0</td>\n",
       "      <td>211.096358</td>\n",
       "      <td>8.106</td>\n",
       "      <td>False</td>\n",
       "      <td>4</td>\n",
       "      <td>39954.04</td>\n",
       "      <td>False</td>\n",
       "    </tr>\n",
       "    <tr>\n",
       "      <th>4</th>\n",
       "      <td>1</td>\n",
       "      <td>2010-02-05</td>\n",
       "      <td>42.31</td>\n",
       "      <td>2.572</td>\n",
       "      <td>0.0</td>\n",
       "      <td>0.0</td>\n",
       "      <td>0.0</td>\n",
       "      <td>0.0</td>\n",
       "      <td>0.0</td>\n",
       "      <td>211.096358</td>\n",
       "      <td>8.106</td>\n",
       "      <td>False</td>\n",
       "      <td>5</td>\n",
       "      <td>32229.38</td>\n",
       "      <td>False</td>\n",
       "    </tr>\n",
       "  </tbody>\n",
       "</table>\n",
       "</div>"
      ],
      "text/plain": [
       "   Store       Date  Temperature  Fuel_Price  MarkDown1  MarkDown2  MarkDown3  \\\n",
       "0      1 2010-02-05        42.31       2.572        0.0        0.0        0.0   \n",
       "1      1 2010-02-05        42.31       2.572        0.0        0.0        0.0   \n",
       "2      1 2010-02-05        42.31       2.572        0.0        0.0        0.0   \n",
       "3      1 2010-02-05        42.31       2.572        0.0        0.0        0.0   \n",
       "4      1 2010-02-05        42.31       2.572        0.0        0.0        0.0   \n",
       "\n",
       "   MarkDown4  MarkDown5         CPI  Unemployment  IsHoliday_x  Dept  \\\n",
       "0        0.0        0.0  211.096358         8.106        False     1   \n",
       "1        0.0        0.0  211.096358         8.106        False     2   \n",
       "2        0.0        0.0  211.096358         8.106        False     3   \n",
       "3        0.0        0.0  211.096358         8.106        False     4   \n",
       "4        0.0        0.0  211.096358         8.106        False     5   \n",
       "\n",
       "   Weekly_Sales  IsHoliday_y  \n",
       "0      24924.50        False  \n",
       "1      50605.27        False  \n",
       "2      13740.12        False  \n",
       "3      39954.04        False  \n",
       "4      32229.38        False  "
      ]
     },
     "execution_count": 15,
     "metadata": {},
     "output_type": "execute_result"
    }
   ],
   "source": [
    "merge_df = pd.merge(feature_df, sales_df, on=['Store', 'Date'])\n",
    "merge_df.head()"
   ]
  },
  {
   "cell_type": "code",
   "execution_count": 16,
   "metadata": {},
   "outputs": [
    {
     "name": "stdout",
     "output_type": "stream",
     "text": [
      "<class 'pandas.core.frame.DataFrame'>\n",
      "RangeIndex: 421570 entries, 0 to 421569\n",
      "Data columns (total 15 columns):\n",
      " #   Column        Non-Null Count   Dtype         \n",
      "---  ------        --------------   -----         \n",
      " 0   Store         421570 non-null  int64         \n",
      " 1   Date          421570 non-null  datetime64[ns]\n",
      " 2   Temperature   421570 non-null  float64       \n",
      " 3   Fuel_Price    421570 non-null  float64       \n",
      " 4   MarkDown1     421570 non-null  float64       \n",
      " 5   MarkDown2     421570 non-null  float64       \n",
      " 6   MarkDown3     421570 non-null  float64       \n",
      " 7   MarkDown4     421570 non-null  float64       \n",
      " 8   MarkDown5     421570 non-null  float64       \n",
      " 9   CPI           421570 non-null  float64       \n",
      " 10  Unemployment  421570 non-null  float64       \n",
      " 11  IsHoliday_x   421570 non-null  bool          \n",
      " 12  Dept          421570 non-null  int64         \n",
      " 13  Weekly_Sales  421570 non-null  float64       \n",
      " 14  IsHoliday_y   421570 non-null  bool          \n",
      "dtypes: bool(2), datetime64[ns](1), float64(10), int64(2)\n",
      "memory usage: 42.6 MB\n"
     ]
    }
   ],
   "source": [
    "merge_df.info()"
   ]
  },
  {
   "cell_type": "code",
   "execution_count": 17,
   "metadata": {},
   "outputs": [
    {
     "data": {
      "text/html": [
       "<div>\n",
       "<style scoped>\n",
       "    .dataframe tbody tr th:only-of-type {\n",
       "        vertical-align: middle;\n",
       "    }\n",
       "\n",
       "    .dataframe tbody tr th {\n",
       "        vertical-align: top;\n",
       "    }\n",
       "\n",
       "    .dataframe thead th {\n",
       "        text-align: right;\n",
       "    }\n",
       "</style>\n",
       "<table border=\"1\" class=\"dataframe\">\n",
       "  <thead>\n",
       "    <tr style=\"text-align: right;\">\n",
       "      <th></th>\n",
       "      <th>Store</th>\n",
       "      <th>Date</th>\n",
       "      <th>Temperature</th>\n",
       "      <th>Fuel_Price</th>\n",
       "      <th>MarkDown1</th>\n",
       "      <th>MarkDown2</th>\n",
       "      <th>MarkDown3</th>\n",
       "      <th>MarkDown4</th>\n",
       "      <th>MarkDown5</th>\n",
       "      <th>CPI</th>\n",
       "      <th>Unemployment</th>\n",
       "      <th>IsHoliday_x</th>\n",
       "      <th>Dept</th>\n",
       "      <th>Weekly_Sales</th>\n",
       "      <th>IsHoliday_y</th>\n",
       "      <th>Type</th>\n",
       "      <th>Size</th>\n",
       "    </tr>\n",
       "  </thead>\n",
       "  <tbody>\n",
       "    <tr>\n",
       "      <th>0</th>\n",
       "      <td>1</td>\n",
       "      <td>2010-02-05</td>\n",
       "      <td>42.31</td>\n",
       "      <td>2.572</td>\n",
       "      <td>0.0</td>\n",
       "      <td>0.0</td>\n",
       "      <td>0.0</td>\n",
       "      <td>0.0</td>\n",
       "      <td>0.0</td>\n",
       "      <td>211.096358</td>\n",
       "      <td>8.106</td>\n",
       "      <td>False</td>\n",
       "      <td>1</td>\n",
       "      <td>24924.50</td>\n",
       "      <td>False</td>\n",
       "      <td>A</td>\n",
       "      <td>151315</td>\n",
       "    </tr>\n",
       "    <tr>\n",
       "      <th>1</th>\n",
       "      <td>1</td>\n",
       "      <td>2010-02-05</td>\n",
       "      <td>42.31</td>\n",
       "      <td>2.572</td>\n",
       "      <td>0.0</td>\n",
       "      <td>0.0</td>\n",
       "      <td>0.0</td>\n",
       "      <td>0.0</td>\n",
       "      <td>0.0</td>\n",
       "      <td>211.096358</td>\n",
       "      <td>8.106</td>\n",
       "      <td>False</td>\n",
       "      <td>2</td>\n",
       "      <td>50605.27</td>\n",
       "      <td>False</td>\n",
       "      <td>A</td>\n",
       "      <td>151315</td>\n",
       "    </tr>\n",
       "    <tr>\n",
       "      <th>2</th>\n",
       "      <td>1</td>\n",
       "      <td>2010-02-05</td>\n",
       "      <td>42.31</td>\n",
       "      <td>2.572</td>\n",
       "      <td>0.0</td>\n",
       "      <td>0.0</td>\n",
       "      <td>0.0</td>\n",
       "      <td>0.0</td>\n",
       "      <td>0.0</td>\n",
       "      <td>211.096358</td>\n",
       "      <td>8.106</td>\n",
       "      <td>False</td>\n",
       "      <td>3</td>\n",
       "      <td>13740.12</td>\n",
       "      <td>False</td>\n",
       "      <td>A</td>\n",
       "      <td>151315</td>\n",
       "    </tr>\n",
       "    <tr>\n",
       "      <th>3</th>\n",
       "      <td>1</td>\n",
       "      <td>2010-02-05</td>\n",
       "      <td>42.31</td>\n",
       "      <td>2.572</td>\n",
       "      <td>0.0</td>\n",
       "      <td>0.0</td>\n",
       "      <td>0.0</td>\n",
       "      <td>0.0</td>\n",
       "      <td>0.0</td>\n",
       "      <td>211.096358</td>\n",
       "      <td>8.106</td>\n",
       "      <td>False</td>\n",
       "      <td>4</td>\n",
       "      <td>39954.04</td>\n",
       "      <td>False</td>\n",
       "      <td>A</td>\n",
       "      <td>151315</td>\n",
       "    </tr>\n",
       "    <tr>\n",
       "      <th>4</th>\n",
       "      <td>1</td>\n",
       "      <td>2010-02-05</td>\n",
       "      <td>42.31</td>\n",
       "      <td>2.572</td>\n",
       "      <td>0.0</td>\n",
       "      <td>0.0</td>\n",
       "      <td>0.0</td>\n",
       "      <td>0.0</td>\n",
       "      <td>0.0</td>\n",
       "      <td>211.096358</td>\n",
       "      <td>8.106</td>\n",
       "      <td>False</td>\n",
       "      <td>5</td>\n",
       "      <td>32229.38</td>\n",
       "      <td>False</td>\n",
       "      <td>A</td>\n",
       "      <td>151315</td>\n",
       "    </tr>\n",
       "  </tbody>\n",
       "</table>\n",
       "</div>"
      ],
      "text/plain": [
       "   Store       Date  Temperature  Fuel_Price  MarkDown1  MarkDown2  MarkDown3  \\\n",
       "0      1 2010-02-05        42.31       2.572        0.0        0.0        0.0   \n",
       "1      1 2010-02-05        42.31       2.572        0.0        0.0        0.0   \n",
       "2      1 2010-02-05        42.31       2.572        0.0        0.0        0.0   \n",
       "3      1 2010-02-05        42.31       2.572        0.0        0.0        0.0   \n",
       "4      1 2010-02-05        42.31       2.572        0.0        0.0        0.0   \n",
       "\n",
       "   MarkDown4  MarkDown5         CPI  Unemployment  IsHoliday_x  Dept  \\\n",
       "0        0.0        0.0  211.096358         8.106        False     1   \n",
       "1        0.0        0.0  211.096358         8.106        False     2   \n",
       "2        0.0        0.0  211.096358         8.106        False     3   \n",
       "3        0.0        0.0  211.096358         8.106        False     4   \n",
       "4        0.0        0.0  211.096358         8.106        False     5   \n",
       "\n",
       "   Weekly_Sales  IsHoliday_y Type    Size  \n",
       "0      24924.50        False    A  151315  \n",
       "1      50605.27        False    A  151315  \n",
       "2      13740.12        False    A  151315  \n",
       "3      39954.04        False    A  151315  \n",
       "4      32229.38        False    A  151315  "
      ]
     },
     "execution_count": 17,
     "metadata": {},
     "output_type": "execute_result"
    }
   ],
   "source": [
    "df = pd.merge(merge_df, store_df, on=['Store'])\n",
    "df.head()"
   ]
  },
  {
   "cell_type": "code",
   "execution_count": 18,
   "metadata": {},
   "outputs": [
    {
     "name": "stdout",
     "output_type": "stream",
     "text": [
      "<class 'pandas.core.frame.DataFrame'>\n",
      "RangeIndex: 421570 entries, 0 to 421569\n",
      "Data columns (total 17 columns):\n",
      " #   Column        Non-Null Count   Dtype         \n",
      "---  ------        --------------   -----         \n",
      " 0   Store         421570 non-null  int64         \n",
      " 1   Date          421570 non-null  datetime64[ns]\n",
      " 2   Temperature   421570 non-null  float64       \n",
      " 3   Fuel_Price    421570 non-null  float64       \n",
      " 4   MarkDown1     421570 non-null  float64       \n",
      " 5   MarkDown2     421570 non-null  float64       \n",
      " 6   MarkDown3     421570 non-null  float64       \n",
      " 7   MarkDown4     421570 non-null  float64       \n",
      " 8   MarkDown5     421570 non-null  float64       \n",
      " 9   CPI           421570 non-null  float64       \n",
      " 10  Unemployment  421570 non-null  float64       \n",
      " 11  IsHoliday_x   421570 non-null  bool          \n",
      " 12  Dept          421570 non-null  int64         \n",
      " 13  Weekly_Sales  421570 non-null  float64       \n",
      " 14  IsHoliday_y   421570 non-null  bool          \n",
      " 15  Type          421570 non-null  object        \n",
      " 16  Size          421570 non-null  int64         \n",
      "dtypes: bool(2), datetime64[ns](1), float64(10), int64(3), object(1)\n",
      "memory usage: 49.0+ MB\n"
     ]
    }
   ],
   "source": [
    "df.info()"
   ]
  },
  {
   "cell_type": "markdown",
   "metadata": {},
   "source": [
    "## Extracting week data from date colum"
   ]
  },
  {
   "cell_type": "code",
   "execution_count": 19,
   "metadata": {},
   "outputs": [
    {
     "data": {
      "text/plain": [
       "0         05\n",
       "1         06\n",
       "2         07\n",
       "3         08\n",
       "4         09\n",
       "          ..\n",
       "421565    39\n",
       "421566    40\n",
       "421567    41\n",
       "421568    42\n",
       "421569    43\n",
       "Name: Week, Length: 421570, dtype: object"
      ]
     },
     "execution_count": 19,
     "metadata": {},
     "output_type": "execute_result"
    }
   ],
   "source": [
    "sales_df['Week'] = sales_df['Date'].dt.strftime('%U')\n",
    "sales_df['Week']"
   ]
  },
  {
   "cell_type": "markdown",
   "metadata": {},
   "source": [
    "## group the store and week "
   ]
  },
  {
   "cell_type": "code",
   "execution_count": 20,
   "metadata": {},
   "outputs": [
    {
     "data": {
      "text/html": [
       "<div>\n",
       "<style scoped>\n",
       "    .dataframe tbody tr th:only-of-type {\n",
       "        vertical-align: middle;\n",
       "    }\n",
       "\n",
       "    .dataframe tbody tr th {\n",
       "        vertical-align: top;\n",
       "    }\n",
       "\n",
       "    .dataframe thead th {\n",
       "        text-align: right;\n",
       "    }\n",
       "</style>\n",
       "<table border=\"1\" class=\"dataframe\">\n",
       "  <thead>\n",
       "    <tr style=\"text-align: right;\">\n",
       "      <th></th>\n",
       "      <th>Store</th>\n",
       "      <th>Week</th>\n",
       "      <th>Weekly_Sales</th>\n",
       "    </tr>\n",
       "  </thead>\n",
       "  <tbody>\n",
       "    <tr>\n",
       "      <th>0</th>\n",
       "      <td>1</td>\n",
       "      <td>01</td>\n",
       "      <td>2995102.20</td>\n",
       "    </tr>\n",
       "    <tr>\n",
       "      <th>1</th>\n",
       "      <td>1</td>\n",
       "      <td>02</td>\n",
       "      <td>2850615.13</td>\n",
       "    </tr>\n",
       "    <tr>\n",
       "      <th>2</th>\n",
       "      <td>1</td>\n",
       "      <td>03</td>\n",
       "      <td>2721799.26</td>\n",
       "    </tr>\n",
       "    <tr>\n",
       "      <th>3</th>\n",
       "      <td>1</td>\n",
       "      <td>04</td>\n",
       "      <td>2636224.90</td>\n",
       "    </tr>\n",
       "    <tr>\n",
       "      <th>4</th>\n",
       "      <td>1</td>\n",
       "      <td>05</td>\n",
       "      <td>4886660.13</td>\n",
       "    </tr>\n",
       "    <tr>\n",
       "      <th>...</th>\n",
       "      <td>...</td>\n",
       "      <td>...</td>\n",
       "      <td>...</td>\n",
       "    </tr>\n",
       "    <tr>\n",
       "      <th>2335</th>\n",
       "      <td>45</td>\n",
       "      <td>48</td>\n",
       "      <td>1754944.71</td>\n",
       "    </tr>\n",
       "    <tr>\n",
       "      <th>2336</th>\n",
       "      <td>45</td>\n",
       "      <td>49</td>\n",
       "      <td>1959519.65</td>\n",
       "    </tr>\n",
       "    <tr>\n",
       "      <th>2337</th>\n",
       "      <td>45</td>\n",
       "      <td>50</td>\n",
       "      <td>2202188.53</td>\n",
       "    </tr>\n",
       "    <tr>\n",
       "      <th>2338</th>\n",
       "      <td>45</td>\n",
       "      <td>51</td>\n",
       "      <td>3204820.02</td>\n",
       "    </tr>\n",
       "    <tr>\n",
       "      <th>2339</th>\n",
       "      <td>45</td>\n",
       "      <td>52</td>\n",
       "      <td>1548559.83</td>\n",
       "    </tr>\n",
       "  </tbody>\n",
       "</table>\n",
       "<p>2340 rows × 3 columns</p>\n",
       "</div>"
      ],
      "text/plain": [
       "      Store Week  Weekly_Sales\n",
       "0         1   01    2995102.20\n",
       "1         1   02    2850615.13\n",
       "2         1   03    2721799.26\n",
       "3         1   04    2636224.90\n",
       "4         1   05    4886660.13\n",
       "...     ...  ...           ...\n",
       "2335     45   48    1754944.71\n",
       "2336     45   49    1959519.65\n",
       "2337     45   50    2202188.53\n",
       "2338     45   51    3204820.02\n",
       "2339     45   52    1548559.83\n",
       "\n",
       "[2340 rows x 3 columns]"
      ]
     },
     "execution_count": 20,
     "metadata": {},
     "output_type": "execute_result"
    }
   ],
   "source": [
    "\n",
    "weekly_sales_by_store = sales_df.groupby(['Store', 'Week'])['Weekly_Sales'].sum().reset_index()\n",
    "weekly_sales_by_store"
   ]
  },
  {
   "cell_type": "markdown",
   "metadata": {},
   "source": [
    "## Highest weely sales"
   ]
  },
  {
   "cell_type": "code",
   "execution_count": 21,
   "metadata": {},
   "outputs": [
    {
     "data": {
      "text/html": [
       "<div>\n",
       "<style scoped>\n",
       "    .dataframe tbody tr th:only-of-type {\n",
       "        vertical-align: middle;\n",
       "    }\n",
       "\n",
       "    .dataframe tbody tr th {\n",
       "        vertical-align: top;\n",
       "    }\n",
       "\n",
       "    .dataframe thead th {\n",
       "        text-align: right;\n",
       "    }\n",
       "</style>\n",
       "<table border=\"1\" class=\"dataframe\">\n",
       "  <thead>\n",
       "    <tr style=\"text-align: right;\">\n",
       "      <th></th>\n",
       "      <th>Store</th>\n",
       "      <th>Week</th>\n",
       "      <th>Weekly_Sales</th>\n",
       "    </tr>\n",
       "  </thead>\n",
       "  <tbody>\n",
       "    <tr>\n",
       "      <th>156</th>\n",
       "      <td>4</td>\n",
       "      <td>01</td>\n",
       "      <td>3910242.34</td>\n",
       "    </tr>\n",
       "    <tr>\n",
       "      <th>157</th>\n",
       "      <td>4</td>\n",
       "      <td>02</td>\n",
       "      <td>3807179.07</td>\n",
       "    </tr>\n",
       "    <tr>\n",
       "      <th>158</th>\n",
       "      <td>4</td>\n",
       "      <td>03</td>\n",
       "      <td>3891491.70</td>\n",
       "    </tr>\n",
       "    <tr>\n",
       "      <th>159</th>\n",
       "      <td>4</td>\n",
       "      <td>04</td>\n",
       "      <td>3742961.36</td>\n",
       "    </tr>\n",
       "    <tr>\n",
       "      <th>992</th>\n",
       "      <td>20</td>\n",
       "      <td>05</td>\n",
       "      <td>6956061.74</td>\n",
       "    </tr>\n",
       "    <tr>\n",
       "      <th>993</th>\n",
       "      <td>20</td>\n",
       "      <td>06</td>\n",
       "      <td>6783474.32</td>\n",
       "    </tr>\n",
       "    <tr>\n",
       "      <th>162</th>\n",
       "      <td>4</td>\n",
       "      <td>07</td>\n",
       "      <td>6793995.99</td>\n",
       "    </tr>\n",
       "    <tr>\n",
       "      <th>163</th>\n",
       "      <td>4</td>\n",
       "      <td>08</td>\n",
       "      <td>6230485.70</td>\n",
       "    </tr>\n",
       "    <tr>\n",
       "      <th>996</th>\n",
       "      <td>20</td>\n",
       "      <td>09</td>\n",
       "      <td>6411461.09</td>\n",
       "    </tr>\n",
       "    <tr>\n",
       "      <th>997</th>\n",
       "      <td>20</td>\n",
       "      <td>10</td>\n",
       "      <td>6141173.01</td>\n",
       "    </tr>\n",
       "    <tr>\n",
       "      <th>166</th>\n",
       "      <td>4</td>\n",
       "      <td>11</td>\n",
       "      <td>6228872.18</td>\n",
       "    </tr>\n",
       "    <tr>\n",
       "      <th>687</th>\n",
       "      <td>14</td>\n",
       "      <td>12</td>\n",
       "      <td>5823295.21</td>\n",
       "    </tr>\n",
       "    <tr>\n",
       "      <th>1000</th>\n",
       "      <td>20</td>\n",
       "      <td>13</td>\n",
       "      <td>6408110.05</td>\n",
       "    </tr>\n",
       "    <tr>\n",
       "      <th>689</th>\n",
       "      <td>14</td>\n",
       "      <td>14</td>\n",
       "      <td>6672602.42</td>\n",
       "    </tr>\n",
       "    <tr>\n",
       "      <th>1002</th>\n",
       "      <td>20</td>\n",
       "      <td>15</td>\n",
       "      <td>6088586.98</td>\n",
       "    </tr>\n",
       "    <tr>\n",
       "      <th>691</th>\n",
       "      <td>14</td>\n",
       "      <td>16</td>\n",
       "      <td>6270292.74</td>\n",
       "    </tr>\n",
       "    <tr>\n",
       "      <th>692</th>\n",
       "      <td>14</td>\n",
       "      <td>17</td>\n",
       "      <td>5797002.71</td>\n",
       "    </tr>\n",
       "    <tr>\n",
       "      <th>693</th>\n",
       "      <td>14</td>\n",
       "      <td>18</td>\n",
       "      <td>6415070.74</td>\n",
       "    </tr>\n",
       "    <tr>\n",
       "      <th>1006</th>\n",
       "      <td>20</td>\n",
       "      <td>19</td>\n",
       "      <td>6238057.26</td>\n",
       "    </tr>\n",
       "    <tr>\n",
       "      <th>175</th>\n",
       "      <td>4</td>\n",
       "      <td>20</td>\n",
       "      <td>6126530.89</td>\n",
       "    </tr>\n",
       "    <tr>\n",
       "      <th>696</th>\n",
       "      <td>14</td>\n",
       "      <td>21</td>\n",
       "      <td>6338716.01</td>\n",
       "    </tr>\n",
       "    <tr>\n",
       "      <th>1009</th>\n",
       "      <td>20</td>\n",
       "      <td>22</td>\n",
       "      <td>6528992.63</td>\n",
       "    </tr>\n",
       "    <tr>\n",
       "      <th>698</th>\n",
       "      <td>14</td>\n",
       "      <td>23</td>\n",
       "      <td>6481631.92</td>\n",
       "    </tr>\n",
       "    <tr>\n",
       "      <th>1011</th>\n",
       "      <td>20</td>\n",
       "      <td>24</td>\n",
       "      <td>6322255.19</td>\n",
       "    </tr>\n",
       "    <tr>\n",
       "      <th>648</th>\n",
       "      <td>13</td>\n",
       "      <td>25</td>\n",
       "      <td>6073876.33</td>\n",
       "    </tr>\n",
       "    <tr>\n",
       "      <th>1013</th>\n",
       "      <td>20</td>\n",
       "      <td>26</td>\n",
       "      <td>6252794.79</td>\n",
       "    </tr>\n",
       "    <tr>\n",
       "      <th>1014</th>\n",
       "      <td>20</td>\n",
       "      <td>27</td>\n",
       "      <td>6589128.94</td>\n",
       "    </tr>\n",
       "    <tr>\n",
       "      <th>1015</th>\n",
       "      <td>20</td>\n",
       "      <td>28</td>\n",
       "      <td>6206408.03</td>\n",
       "    </tr>\n",
       "    <tr>\n",
       "      <th>184</th>\n",
       "      <td>4</td>\n",
       "      <td>29</td>\n",
       "      <td>6060221.86</td>\n",
       "    </tr>\n",
       "    <tr>\n",
       "      <th>185</th>\n",
       "      <td>4</td>\n",
       "      <td>30</td>\n",
       "      <td>5834925.33</td>\n",
       "    </tr>\n",
       "    <tr>\n",
       "      <th>186</th>\n",
       "      <td>4</td>\n",
       "      <td>31</td>\n",
       "      <td>6242210.10</td>\n",
       "    </tr>\n",
       "    <tr>\n",
       "      <th>187</th>\n",
       "      <td>4</td>\n",
       "      <td>32</td>\n",
       "      <td>6306087.18</td>\n",
       "    </tr>\n",
       "    <tr>\n",
       "      <th>188</th>\n",
       "      <td>4</td>\n",
       "      <td>33</td>\n",
       "      <td>6513613.49</td>\n",
       "    </tr>\n",
       "    <tr>\n",
       "      <th>657</th>\n",
       "      <td>13</td>\n",
       "      <td>34</td>\n",
       "      <td>6002981.06</td>\n",
       "    </tr>\n",
       "    <tr>\n",
       "      <th>1022</th>\n",
       "      <td>20</td>\n",
       "      <td>35</td>\n",
       "      <td>6325808.95</td>\n",
       "    </tr>\n",
       "    <tr>\n",
       "      <th>711</th>\n",
       "      <td>14</td>\n",
       "      <td>36</td>\n",
       "      <td>6299023.00</td>\n",
       "    </tr>\n",
       "    <tr>\n",
       "      <th>192</th>\n",
       "      <td>4</td>\n",
       "      <td>37</td>\n",
       "      <td>6093391.54</td>\n",
       "    </tr>\n",
       "    <tr>\n",
       "      <th>193</th>\n",
       "      <td>4</td>\n",
       "      <td>38</td>\n",
       "      <td>5961529.62</td>\n",
       "    </tr>\n",
       "    <tr>\n",
       "      <th>1026</th>\n",
       "      <td>20</td>\n",
       "      <td>39</td>\n",
       "      <td>5887878.05</td>\n",
       "    </tr>\n",
       "    <tr>\n",
       "      <th>1027</th>\n",
       "      <td>20</td>\n",
       "      <td>40</td>\n",
       "      <td>6442783.95</td>\n",
       "    </tr>\n",
       "    <tr>\n",
       "      <th>1028</th>\n",
       "      <td>20</td>\n",
       "      <td>41</td>\n",
       "      <td>6123735.43</td>\n",
       "    </tr>\n",
       "    <tr>\n",
       "      <th>197</th>\n",
       "      <td>4</td>\n",
       "      <td>42</td>\n",
       "      <td>6232619.04</td>\n",
       "    </tr>\n",
       "    <tr>\n",
       "      <th>198</th>\n",
       "      <td>4</td>\n",
       "      <td>43</td>\n",
       "      <td>6234587.05</td>\n",
       "    </tr>\n",
       "    <tr>\n",
       "      <th>1031</th>\n",
       "      <td>20</td>\n",
       "      <td>44</td>\n",
       "      <td>4468423.24</td>\n",
       "    </tr>\n",
       "    <tr>\n",
       "      <th>1032</th>\n",
       "      <td>20</td>\n",
       "      <td>45</td>\n",
       "      <td>4457741.13</td>\n",
       "    </tr>\n",
       "    <tr>\n",
       "      <th>201</th>\n",
       "      <td>4</td>\n",
       "      <td>46</td>\n",
       "      <td>4341755.99</td>\n",
       "    </tr>\n",
       "    <tr>\n",
       "      <th>514</th>\n",
       "      <td>10</td>\n",
       "      <td>47</td>\n",
       "      <td>5890145.02</td>\n",
       "    </tr>\n",
       "    <tr>\n",
       "      <th>1035</th>\n",
       "      <td>20</td>\n",
       "      <td>48</td>\n",
       "      <td>4714828.00</td>\n",
       "    </tr>\n",
       "    <tr>\n",
       "      <th>1036</th>\n",
       "      <td>20</td>\n",
       "      <td>49</td>\n",
       "      <td>5298245.86</td>\n",
       "    </tr>\n",
       "    <tr>\n",
       "      <th>1037</th>\n",
       "      <td>20</td>\n",
       "      <td>50</td>\n",
       "      <td>5582009.82</td>\n",
       "    </tr>\n",
       "    <tr>\n",
       "      <th>1038</th>\n",
       "      <td>20</td>\n",
       "      <td>51</td>\n",
       "      <td>7322058.46</td>\n",
       "    </tr>\n",
       "    <tr>\n",
       "      <th>1039</th>\n",
       "      <td>20</td>\n",
       "      <td>52</td>\n",
       "      <td>3842982.79</td>\n",
       "    </tr>\n",
       "  </tbody>\n",
       "</table>\n",
       "</div>"
      ],
      "text/plain": [
       "      Store Week  Weekly_Sales\n",
       "156       4   01    3910242.34\n",
       "157       4   02    3807179.07\n",
       "158       4   03    3891491.70\n",
       "159       4   04    3742961.36\n",
       "992      20   05    6956061.74\n",
       "993      20   06    6783474.32\n",
       "162       4   07    6793995.99\n",
       "163       4   08    6230485.70\n",
       "996      20   09    6411461.09\n",
       "997      20   10    6141173.01\n",
       "166       4   11    6228872.18\n",
       "687      14   12    5823295.21\n",
       "1000     20   13    6408110.05\n",
       "689      14   14    6672602.42\n",
       "1002     20   15    6088586.98\n",
       "691      14   16    6270292.74\n",
       "692      14   17    5797002.71\n",
       "693      14   18    6415070.74\n",
       "1006     20   19    6238057.26\n",
       "175       4   20    6126530.89\n",
       "696      14   21    6338716.01\n",
       "1009     20   22    6528992.63\n",
       "698      14   23    6481631.92\n",
       "1011     20   24    6322255.19\n",
       "648      13   25    6073876.33\n",
       "1013     20   26    6252794.79\n",
       "1014     20   27    6589128.94\n",
       "1015     20   28    6206408.03\n",
       "184       4   29    6060221.86\n",
       "185       4   30    5834925.33\n",
       "186       4   31    6242210.10\n",
       "187       4   32    6306087.18\n",
       "188       4   33    6513613.49\n",
       "657      13   34    6002981.06\n",
       "1022     20   35    6325808.95\n",
       "711      14   36    6299023.00\n",
       "192       4   37    6093391.54\n",
       "193       4   38    5961529.62\n",
       "1026     20   39    5887878.05\n",
       "1027     20   40    6442783.95\n",
       "1028     20   41    6123735.43\n",
       "197       4   42    6232619.04\n",
       "198       4   43    6234587.05\n",
       "1031     20   44    4468423.24\n",
       "1032     20   45    4457741.13\n",
       "201       4   46    4341755.99\n",
       "514      10   47    5890145.02\n",
       "1035     20   48    4714828.00\n",
       "1036     20   49    5298245.86\n",
       "1037     20   50    5582009.82\n",
       "1038     20   51    7322058.46\n",
       "1039     20   52    3842982.79"
      ]
     },
     "execution_count": 21,
     "metadata": {},
     "output_type": "execute_result"
    }
   ],
   "source": [
    "weekly_sales_by_store.loc[weekly_sales_by_store.groupby('Week')['Weekly_Sales'].idxmax()]"
   ]
  },
  {
   "cell_type": "code",
   "execution_count": 22,
   "metadata": {},
   "outputs": [
    {
     "name": "stdout",
     "output_type": "stream",
     "text": [
      "      Store Week  Weekly_Sales\n",
      "156       4   01    3910242.34\n",
      "157       4   02    3807179.07\n",
      "158       4   03    3891491.70\n",
      "159       4   04    3742961.36\n",
      "992      20   05    6956061.74\n",
      "993      20   06    6783474.32\n",
      "162       4   07    6793995.99\n",
      "163       4   08    6230485.70\n",
      "996      20   09    6411461.09\n",
      "997      20   10    6141173.01\n",
      "166       4   11    6228872.18\n",
      "687      14   12    5823295.21\n",
      "1000     20   13    6408110.05\n",
      "689      14   14    6672602.42\n",
      "1002     20   15    6088586.98\n",
      "691      14   16    6270292.74\n",
      "692      14   17    5797002.71\n",
      "693      14   18    6415070.74\n",
      "1006     20   19    6238057.26\n",
      "175       4   20    6126530.89\n",
      "696      14   21    6338716.01\n",
      "1009     20   22    6528992.63\n",
      "698      14   23    6481631.92\n",
      "1011     20   24    6322255.19\n",
      "648      13   25    6073876.33\n",
      "1013     20   26    6252794.79\n",
      "1014     20   27    6589128.94\n",
      "1015     20   28    6206408.03\n",
      "184       4   29    6060221.86\n",
      "185       4   30    5834925.33\n",
      "186       4   31    6242210.10\n",
      "187       4   32    6306087.18\n",
      "188       4   33    6513613.49\n",
      "657      13   34    6002981.06\n",
      "1022     20   35    6325808.95\n",
      "711      14   36    6299023.00\n",
      "192       4   37    6093391.54\n",
      "193       4   38    5961529.62\n",
      "1026     20   39    5887878.05\n",
      "1027     20   40    6442783.95\n",
      "1028     20   41    6123735.43\n",
      "197       4   42    6232619.04\n",
      "198       4   43    6234587.05\n",
      "1031     20   44    4468423.24\n",
      "1032     20   45    4457741.13\n",
      "201       4   46    4341755.99\n",
      "514      10   47    5890145.02\n",
      "1035     20   48    4714828.00\n",
      "1036     20   49    5298245.86\n",
      "1037     20   50    5582009.82\n",
      "1038     20   51    7322058.46\n",
      "1039     20   52    3842982.79\n"
     ]
    }
   ],
   "source": [
    "sales_df['Week'] = sales_df['Date'].dt.strftime('%U')\n",
    "weekly_sales_by_store = sales_df.groupby(['Store', 'Week'])['Weekly_Sales'].sum().reset_index()\n",
    "Store_Highest_Sale=weekly_sales_by_store.loc[weekly_sales_by_store.groupby('Week')['Weekly_Sales'].idxmax()]\n",
    "print(Store_Highest_Sale)"
   ]
  },
  {
   "cell_type": "markdown",
   "metadata": {},
   "source": [
    "# Highest Sales in every week in the year"
   ]
  },
  {
   "cell_type": "code",
   "execution_count": 23,
   "metadata": {},
   "outputs": [
    {
     "name": "stdout",
     "output_type": "stream",
     "text": [
      "    index  Store Week  Weekly_Sales\n",
      "0     156      4   01    3910242.34\n",
      "1     157      4   02    3807179.07\n",
      "2     158      4   03    3891491.70\n",
      "3     159      4   04    3742961.36\n",
      "4     992     20   05    6956061.74\n",
      "5     993     20   06    6783474.32\n",
      "6     162      4   07    6793995.99\n",
      "7     163      4   08    6230485.70\n",
      "8     996     20   09    6411461.09\n",
      "9     997     20   10    6141173.01\n",
      "10    166      4   11    6228872.18\n",
      "11    687     14   12    5823295.21\n",
      "12   1000     20   13    6408110.05\n",
      "13    689     14   14    6672602.42\n",
      "14   1002     20   15    6088586.98\n",
      "15    691     14   16    6270292.74\n",
      "16    692     14   17    5797002.71\n",
      "17    693     14   18    6415070.74\n",
      "18   1006     20   19    6238057.26\n",
      "19    175      4   20    6126530.89\n",
      "20    696     14   21    6338716.01\n",
      "21   1009     20   22    6528992.63\n",
      "22    698     14   23    6481631.92\n",
      "23   1011     20   24    6322255.19\n",
      "24    648     13   25    6073876.33\n",
      "25   1013     20   26    6252794.79\n",
      "26   1014     20   27    6589128.94\n",
      "27   1015     20   28    6206408.03\n",
      "28    184      4   29    6060221.86\n",
      "29    185      4   30    5834925.33\n",
      "30    186      4   31    6242210.10\n",
      "31    187      4   32    6306087.18\n",
      "32    188      4   33    6513613.49\n",
      "33    657     13   34    6002981.06\n",
      "34   1022     20   35    6325808.95\n",
      "35    711     14   36    6299023.00\n",
      "36    192      4   37    6093391.54\n",
      "37    193      4   38    5961529.62\n",
      "38   1026     20   39    5887878.05\n",
      "39   1027     20   40    6442783.95\n",
      "40   1028     20   41    6123735.43\n",
      "41    197      4   42    6232619.04\n",
      "42    198      4   43    6234587.05\n",
      "43   1031     20   44    4468423.24\n",
      "44   1032     20   45    4457741.13\n",
      "45    201      4   46    4341755.99\n",
      "46    514     10   47    5890145.02\n",
      "47   1035     20   48    4714828.00\n",
      "48   1036     20   49    5298245.86\n",
      "49   1037     20   50    5582009.82\n",
      "50   1038     20   51    7322058.46\n",
      "51   1039     20   52    3842982.79\n"
     ]
    }
   ],
   "source": [
    "sales_df['Week'] = sales_df['Date'].dt.strftime('%U')\n",
    "weekly_sales_by_store = sales_df.groupby(['Store', 'Week'])['Weekly_Sales'].sum().reset_index()\n",
    "Store_Highest_Sale=weekly_sales_by_store.loc[weekly_sales_by_store.groupby('Week')['Weekly_Sales'].idxmax()].reset_index()\n",
    "print(Store_Highest_Sale)"
   ]
  },
  {
   "cell_type": "code",
   "execution_count": 24,
   "metadata": {},
   "outputs": [],
   "source": [
    "continuous_columns = ['Size', 'Weekly_Sales', 'Temperature', 'Fuel_Price', 'MarkDown1', 'MarkDown2', 'MarkDown3',\n",
    "                      'MarkDown4', 'MarkDown5', 'CPI', 'Unemployment']\n",
    "category_columns = [\"Store\",  \"Type\",   \"IsHoliday_x\", \"IsHoliday_y\", \"Dept\"]\n",
    "\n",
    "string_columns = df.select_dtypes(exclude=['int64',\"float64\",\"datetime64\"]).columns\n",
    "numeric_columns = df.select_dtypes(include=['int64',\"float64\"]).columns"
   ]
  },
  {
   "cell_type": "code",
   "execution_count": 25,
   "metadata": {},
   "outputs": [
    {
     "data": {
      "text/html": [
       "<div>\n",
       "<style scoped>\n",
       "    .dataframe tbody tr th:only-of-type {\n",
       "        vertical-align: middle;\n",
       "    }\n",
       "\n",
       "    .dataframe tbody tr th {\n",
       "        vertical-align: top;\n",
       "    }\n",
       "\n",
       "    .dataframe thead th {\n",
       "        text-align: right;\n",
       "    }\n",
       "</style>\n",
       "<table border=\"1\" class=\"dataframe\">\n",
       "  <thead>\n",
       "    <tr style=\"text-align: right;\">\n",
       "      <th></th>\n",
       "      <th>count</th>\n",
       "      <th>mean</th>\n",
       "      <th>min</th>\n",
       "      <th>25%</th>\n",
       "      <th>50%</th>\n",
       "      <th>75%</th>\n",
       "      <th>max</th>\n",
       "      <th>std</th>\n",
       "    </tr>\n",
       "  </thead>\n",
       "  <tbody>\n",
       "    <tr>\n",
       "      <th>Store</th>\n",
       "      <td>421570.0</td>\n",
       "      <td>22.200546</td>\n",
       "      <td>1.0</td>\n",
       "      <td>11.0</td>\n",
       "      <td>22.0</td>\n",
       "      <td>33.0</td>\n",
       "      <td>45.0</td>\n",
       "      <td>12.785297</td>\n",
       "    </tr>\n",
       "    <tr>\n",
       "      <th>Date</th>\n",
       "      <td>421570</td>\n",
       "      <td>2011-06-18 08:30:31.963375360</td>\n",
       "      <td>2010-02-05 00:00:00</td>\n",
       "      <td>2010-10-08 00:00:00</td>\n",
       "      <td>2011-06-17 00:00:00</td>\n",
       "      <td>2012-02-24 00:00:00</td>\n",
       "      <td>2012-10-26 00:00:00</td>\n",
       "      <td>NaN</td>\n",
       "    </tr>\n",
       "    <tr>\n",
       "      <th>Temperature</th>\n",
       "      <td>421570.0</td>\n",
       "      <td>60.090059</td>\n",
       "      <td>-2.06</td>\n",
       "      <td>46.68</td>\n",
       "      <td>62.09</td>\n",
       "      <td>74.28</td>\n",
       "      <td>100.14</td>\n",
       "      <td>18.447931</td>\n",
       "    </tr>\n",
       "    <tr>\n",
       "      <th>Fuel_Price</th>\n",
       "      <td>421570.0</td>\n",
       "      <td>3.361027</td>\n",
       "      <td>2.472</td>\n",
       "      <td>2.933</td>\n",
       "      <td>3.452</td>\n",
       "      <td>3.738</td>\n",
       "      <td>4.468</td>\n",
       "      <td>0.458515</td>\n",
       "    </tr>\n",
       "    <tr>\n",
       "      <th>MarkDown1</th>\n",
       "      <td>421570.0</td>\n",
       "      <td>2590.074819</td>\n",
       "      <td>0.0</td>\n",
       "      <td>0.0</td>\n",
       "      <td>0.0</td>\n",
       "      <td>2809.05</td>\n",
       "      <td>88646.76</td>\n",
       "      <td>6052.385934</td>\n",
       "    </tr>\n",
       "    <tr>\n",
       "      <th>MarkDown2</th>\n",
       "      <td>421570.0</td>\n",
       "      <td>879.974298</td>\n",
       "      <td>-265.76</td>\n",
       "      <td>0.0</td>\n",
       "      <td>0.0</td>\n",
       "      <td>2.2</td>\n",
       "      <td>104519.54</td>\n",
       "      <td>5084.538801</td>\n",
       "    </tr>\n",
       "    <tr>\n",
       "      <th>MarkDown3</th>\n",
       "      <td>421570.0</td>\n",
       "      <td>468.087665</td>\n",
       "      <td>-29.1</td>\n",
       "      <td>0.0</td>\n",
       "      <td>0.0</td>\n",
       "      <td>4.54</td>\n",
       "      <td>141630.61</td>\n",
       "      <td>5528.873453</td>\n",
       "    </tr>\n",
       "    <tr>\n",
       "      <th>MarkDown4</th>\n",
       "      <td>421570.0</td>\n",
       "      <td>1083.132268</td>\n",
       "      <td>0.0</td>\n",
       "      <td>0.0</td>\n",
       "      <td>0.0</td>\n",
       "      <td>425.29</td>\n",
       "      <td>67474.85</td>\n",
       "      <td>3894.529945</td>\n",
       "    </tr>\n",
       "    <tr>\n",
       "      <th>MarkDown5</th>\n",
       "      <td>421570.0</td>\n",
       "      <td>1662.772385</td>\n",
       "      <td>0.0</td>\n",
       "      <td>0.0</td>\n",
       "      <td>0.0</td>\n",
       "      <td>2168.04</td>\n",
       "      <td>108519.28</td>\n",
       "      <td>4207.629321</td>\n",
       "    </tr>\n",
       "    <tr>\n",
       "      <th>CPI</th>\n",
       "      <td>421570.0</td>\n",
       "      <td>171.201947</td>\n",
       "      <td>126.064</td>\n",
       "      <td>132.022667</td>\n",
       "      <td>182.31878</td>\n",
       "      <td>212.416993</td>\n",
       "      <td>227.232807</td>\n",
       "      <td>39.159276</td>\n",
       "    </tr>\n",
       "    <tr>\n",
       "      <th>Unemployment</th>\n",
       "      <td>421570.0</td>\n",
       "      <td>7.960289</td>\n",
       "      <td>3.879</td>\n",
       "      <td>6.891</td>\n",
       "      <td>7.866</td>\n",
       "      <td>8.572</td>\n",
       "      <td>14.313</td>\n",
       "      <td>1.863296</td>\n",
       "    </tr>\n",
       "    <tr>\n",
       "      <th>Dept</th>\n",
       "      <td>421570.0</td>\n",
       "      <td>44.260317</td>\n",
       "      <td>1.0</td>\n",
       "      <td>18.0</td>\n",
       "      <td>37.0</td>\n",
       "      <td>74.0</td>\n",
       "      <td>99.0</td>\n",
       "      <td>30.492054</td>\n",
       "    </tr>\n",
       "    <tr>\n",
       "      <th>Weekly_Sales</th>\n",
       "      <td>421570.0</td>\n",
       "      <td>15981.258123</td>\n",
       "      <td>-4988.94</td>\n",
       "      <td>2079.65</td>\n",
       "      <td>7612.03</td>\n",
       "      <td>20205.8525</td>\n",
       "      <td>693099.36</td>\n",
       "      <td>22711.183519</td>\n",
       "    </tr>\n",
       "    <tr>\n",
       "      <th>Size</th>\n",
       "      <td>421570.0</td>\n",
       "      <td>136727.915739</td>\n",
       "      <td>34875.0</td>\n",
       "      <td>93638.0</td>\n",
       "      <td>140167.0</td>\n",
       "      <td>202505.0</td>\n",
       "      <td>219622.0</td>\n",
       "      <td>60980.583328</td>\n",
       "    </tr>\n",
       "  </tbody>\n",
       "</table>\n",
       "</div>"
      ],
      "text/plain": [
       "                 count                           mean                  min  \\\n",
       "Store         421570.0                      22.200546                  1.0   \n",
       "Date            421570  2011-06-18 08:30:31.963375360  2010-02-05 00:00:00   \n",
       "Temperature   421570.0                      60.090059                -2.06   \n",
       "Fuel_Price    421570.0                       3.361027                2.472   \n",
       "MarkDown1     421570.0                    2590.074819                  0.0   \n",
       "MarkDown2     421570.0                     879.974298              -265.76   \n",
       "MarkDown3     421570.0                     468.087665                -29.1   \n",
       "MarkDown4     421570.0                    1083.132268                  0.0   \n",
       "MarkDown5     421570.0                    1662.772385                  0.0   \n",
       "CPI           421570.0                     171.201947              126.064   \n",
       "Unemployment  421570.0                       7.960289                3.879   \n",
       "Dept          421570.0                      44.260317                  1.0   \n",
       "Weekly_Sales  421570.0                   15981.258123             -4988.94   \n",
       "Size          421570.0                  136727.915739              34875.0   \n",
       "\n",
       "                              25%                  50%                  75%  \\\n",
       "Store                        11.0                 22.0                 33.0   \n",
       "Date          2010-10-08 00:00:00  2011-06-17 00:00:00  2012-02-24 00:00:00   \n",
       "Temperature                 46.68                62.09                74.28   \n",
       "Fuel_Price                  2.933                3.452                3.738   \n",
       "MarkDown1                     0.0                  0.0              2809.05   \n",
       "MarkDown2                     0.0                  0.0                  2.2   \n",
       "MarkDown3                     0.0                  0.0                 4.54   \n",
       "MarkDown4                     0.0                  0.0               425.29   \n",
       "MarkDown5                     0.0                  0.0              2168.04   \n",
       "CPI                    132.022667            182.31878           212.416993   \n",
       "Unemployment                6.891                7.866                8.572   \n",
       "Dept                         18.0                 37.0                 74.0   \n",
       "Weekly_Sales              2079.65              7612.03           20205.8525   \n",
       "Size                      93638.0             140167.0             202505.0   \n",
       "\n",
       "                              max           std  \n",
       "Store                        45.0     12.785297  \n",
       "Date          2012-10-26 00:00:00           NaN  \n",
       "Temperature                100.14     18.447931  \n",
       "Fuel_Price                  4.468      0.458515  \n",
       "MarkDown1                88646.76   6052.385934  \n",
       "MarkDown2               104519.54   5084.538801  \n",
       "MarkDown3               141630.61   5528.873453  \n",
       "MarkDown4                67474.85   3894.529945  \n",
       "MarkDown5               108519.28   4207.629321  \n",
       "CPI                    227.232807     39.159276  \n",
       "Unemployment               14.313      1.863296  \n",
       "Dept                         99.0     30.492054  \n",
       "Weekly_Sales            693099.36  22711.183519  \n",
       "Size                     219622.0  60980.583328  "
      ]
     },
     "execution_count": 25,
     "metadata": {},
     "output_type": "execute_result"
    }
   ],
   "source": [
    "df.describe().T"
   ]
  },
  {
   "cell_type": "code",
   "execution_count": 25,
   "metadata": {},
   "outputs": [
    {
     "data": {
      "text/html": [
       "<div>\n",
       "<style scoped>\n",
       "    .dataframe tbody tr th:only-of-type {\n",
       "        vertical-align: middle;\n",
       "    }\n",
       "\n",
       "    .dataframe tbody tr th {\n",
       "        vertical-align: top;\n",
       "    }\n",
       "\n",
       "    .dataframe thead th {\n",
       "        text-align: right;\n",
       "    }\n",
       "</style>\n",
       "<table border=\"1\" class=\"dataframe\">\n",
       "  <thead>\n",
       "    <tr style=\"text-align: right;\">\n",
       "      <th></th>\n",
       "      <th>Store</th>\n",
       "      <th>Temperature</th>\n",
       "      <th>Fuel_Price</th>\n",
       "      <th>MarkDown1</th>\n",
       "      <th>MarkDown2</th>\n",
       "      <th>MarkDown3</th>\n",
       "      <th>MarkDown4</th>\n",
       "      <th>MarkDown5</th>\n",
       "      <th>CPI</th>\n",
       "      <th>Unemployment</th>\n",
       "      <th>Dept</th>\n",
       "      <th>Weekly_Sales</th>\n",
       "      <th>Size</th>\n",
       "    </tr>\n",
       "  </thead>\n",
       "  <tbody>\n",
       "    <tr>\n",
       "      <th>Store</th>\n",
       "      <td>1.000000</td>\n",
       "      <td>-0.050097</td>\n",
       "      <td>0.065290</td>\n",
       "      <td>-0.059844</td>\n",
       "      <td>-0.033829</td>\n",
       "      <td>-0.020331</td>\n",
       "      <td>-0.042724</td>\n",
       "      <td>-0.012452</td>\n",
       "      <td>-0.211088</td>\n",
       "      <td>0.208552</td>\n",
       "      <td>0.024004</td>\n",
       "      <td>-0.085195</td>\n",
       "      <td>-0.182881</td>\n",
       "    </tr>\n",
       "    <tr>\n",
       "      <th>Temperature</th>\n",
       "      <td>-0.050097</td>\n",
       "      <td>1.000000</td>\n",
       "      <td>0.143859</td>\n",
       "      <td>-0.026415</td>\n",
       "      <td>-0.179672</td>\n",
       "      <td>-0.056026</td>\n",
       "      <td>-0.050281</td>\n",
       "      <td>-0.014752</td>\n",
       "      <td>0.182112</td>\n",
       "      <td>0.096730</td>\n",
       "      <td>0.004437</td>\n",
       "      <td>-0.002312</td>\n",
       "      <td>-0.058313</td>\n",
       "    </tr>\n",
       "    <tr>\n",
       "      <th>Fuel_Price</th>\n",
       "      <td>0.065290</td>\n",
       "      <td>0.143859</td>\n",
       "      <td>1.000000</td>\n",
       "      <td>0.297056</td>\n",
       "      <td>0.029153</td>\n",
       "      <td>0.018615</td>\n",
       "      <td>0.166622</td>\n",
       "      <td>0.215420</td>\n",
       "      <td>-0.164210</td>\n",
       "      <td>-0.033853</td>\n",
       "      <td>0.003572</td>\n",
       "      <td>-0.000120</td>\n",
       "      <td>0.003361</td>\n",
       "    </tr>\n",
       "    <tr>\n",
       "      <th>MarkDown1</th>\n",
       "      <td>-0.059844</td>\n",
       "      <td>-0.026415</td>\n",
       "      <td>0.297056</td>\n",
       "      <td>1.000000</td>\n",
       "      <td>0.174868</td>\n",
       "      <td>-0.014411</td>\n",
       "      <td>0.838904</td>\n",
       "      <td>0.415050</td>\n",
       "      <td>0.010915</td>\n",
       "      <td>-0.105168</td>\n",
       "      <td>0.001494</td>\n",
       "      <td>0.047172</td>\n",
       "      <td>0.169788</td>\n",
       "    </tr>\n",
       "    <tr>\n",
       "      <th>MarkDown2</th>\n",
       "      <td>-0.033829</td>\n",
       "      <td>-0.179672</td>\n",
       "      <td>0.029153</td>\n",
       "      <td>0.174868</td>\n",
       "      <td>1.000000</td>\n",
       "      <td>-0.006080</td>\n",
       "      <td>0.113250</td>\n",
       "      <td>0.131735</td>\n",
       "      <td>-0.003554</td>\n",
       "      <td>-0.041427</td>\n",
       "      <td>0.000587</td>\n",
       "      <td>0.020716</td>\n",
       "      <td>0.078372</td>\n",
       "    </tr>\n",
       "    <tr>\n",
       "      <th>MarkDown3</th>\n",
       "      <td>-0.020331</td>\n",
       "      <td>-0.056026</td>\n",
       "      <td>0.018615</td>\n",
       "      <td>-0.014411</td>\n",
       "      <td>-0.006080</td>\n",
       "      <td>1.000000</td>\n",
       "      <td>-0.012020</td>\n",
       "      <td>0.042471</td>\n",
       "      <td>-0.005839</td>\n",
       "      <td>-0.018078</td>\n",
       "      <td>0.001475</td>\n",
       "      <td>0.038562</td>\n",
       "      <td>0.033641</td>\n",
       "    </tr>\n",
       "    <tr>\n",
       "      <th>MarkDown4</th>\n",
       "      <td>-0.042724</td>\n",
       "      <td>-0.050281</td>\n",
       "      <td>0.166622</td>\n",
       "      <td>0.838904</td>\n",
       "      <td>0.113250</td>\n",
       "      <td>-0.012020</td>\n",
       "      <td>1.000000</td>\n",
       "      <td>0.303370</td>\n",
       "      <td>-0.002047</td>\n",
       "      <td>-0.076513</td>\n",
       "      <td>0.001937</td>\n",
       "      <td>0.037467</td>\n",
       "      <td>0.127334</td>\n",
       "    </tr>\n",
       "    <tr>\n",
       "      <th>MarkDown5</th>\n",
       "      <td>-0.012452</td>\n",
       "      <td>-0.014752</td>\n",
       "      <td>0.215420</td>\n",
       "      <td>0.415050</td>\n",
       "      <td>0.131735</td>\n",
       "      <td>0.042471</td>\n",
       "      <td>0.303370</td>\n",
       "      <td>1.000000</td>\n",
       "      <td>0.067906</td>\n",
       "      <td>-0.120406</td>\n",
       "      <td>0.002668</td>\n",
       "      <td>0.050465</td>\n",
       "      <td>0.153011</td>\n",
       "    </tr>\n",
       "    <tr>\n",
       "      <th>CPI</th>\n",
       "      <td>-0.211088</td>\n",
       "      <td>0.182112</td>\n",
       "      <td>-0.164210</td>\n",
       "      <td>0.010915</td>\n",
       "      <td>-0.003554</td>\n",
       "      <td>-0.005839</td>\n",
       "      <td>-0.002047</td>\n",
       "      <td>0.067906</td>\n",
       "      <td>1.000000</td>\n",
       "      <td>-0.299953</td>\n",
       "      <td>-0.007477</td>\n",
       "      <td>-0.020921</td>\n",
       "      <td>-0.003314</td>\n",
       "    </tr>\n",
       "    <tr>\n",
       "      <th>Unemployment</th>\n",
       "      <td>0.208552</td>\n",
       "      <td>0.096730</td>\n",
       "      <td>-0.033853</td>\n",
       "      <td>-0.105168</td>\n",
       "      <td>-0.041427</td>\n",
       "      <td>-0.018078</td>\n",
       "      <td>-0.076513</td>\n",
       "      <td>-0.120406</td>\n",
       "      <td>-0.299953</td>\n",
       "      <td>1.000000</td>\n",
       "      <td>0.007837</td>\n",
       "      <td>-0.025864</td>\n",
       "      <td>-0.068238</td>\n",
       "    </tr>\n",
       "    <tr>\n",
       "      <th>Dept</th>\n",
       "      <td>0.024004</td>\n",
       "      <td>0.004437</td>\n",
       "      <td>0.003572</td>\n",
       "      <td>0.001494</td>\n",
       "      <td>0.000587</td>\n",
       "      <td>0.001475</td>\n",
       "      <td>0.001937</td>\n",
       "      <td>0.002668</td>\n",
       "      <td>-0.007477</td>\n",
       "      <td>0.007837</td>\n",
       "      <td>1.000000</td>\n",
       "      <td>0.148032</td>\n",
       "      <td>-0.002966</td>\n",
       "    </tr>\n",
       "    <tr>\n",
       "      <th>Weekly_Sales</th>\n",
       "      <td>-0.085195</td>\n",
       "      <td>-0.002312</td>\n",
       "      <td>-0.000120</td>\n",
       "      <td>0.047172</td>\n",
       "      <td>0.020716</td>\n",
       "      <td>0.038562</td>\n",
       "      <td>0.037467</td>\n",
       "      <td>0.050465</td>\n",
       "      <td>-0.020921</td>\n",
       "      <td>-0.025864</td>\n",
       "      <td>0.148032</td>\n",
       "      <td>1.000000</td>\n",
       "      <td>0.243828</td>\n",
       "    </tr>\n",
       "    <tr>\n",
       "      <th>Size</th>\n",
       "      <td>-0.182881</td>\n",
       "      <td>-0.058313</td>\n",
       "      <td>0.003361</td>\n",
       "      <td>0.169788</td>\n",
       "      <td>0.078372</td>\n",
       "      <td>0.033641</td>\n",
       "      <td>0.127334</td>\n",
       "      <td>0.153011</td>\n",
       "      <td>-0.003314</td>\n",
       "      <td>-0.068238</td>\n",
       "      <td>-0.002966</td>\n",
       "      <td>0.243828</td>\n",
       "      <td>1.000000</td>\n",
       "    </tr>\n",
       "  </tbody>\n",
       "</table>\n",
       "</div>"
      ],
      "text/plain": [
       "                 Store  Temperature  Fuel_Price  MarkDown1  MarkDown2  \\\n",
       "Store         1.000000    -0.050097    0.065290  -0.059844  -0.033829   \n",
       "Temperature  -0.050097     1.000000    0.143859  -0.026415  -0.179672   \n",
       "Fuel_Price    0.065290     0.143859    1.000000   0.297056   0.029153   \n",
       "MarkDown1    -0.059844    -0.026415    0.297056   1.000000   0.174868   \n",
       "MarkDown2    -0.033829    -0.179672    0.029153   0.174868   1.000000   \n",
       "MarkDown3    -0.020331    -0.056026    0.018615  -0.014411  -0.006080   \n",
       "MarkDown4    -0.042724    -0.050281    0.166622   0.838904   0.113250   \n",
       "MarkDown5    -0.012452    -0.014752    0.215420   0.415050   0.131735   \n",
       "CPI          -0.211088     0.182112   -0.164210   0.010915  -0.003554   \n",
       "Unemployment  0.208552     0.096730   -0.033853  -0.105168  -0.041427   \n",
       "Dept          0.024004     0.004437    0.003572   0.001494   0.000587   \n",
       "Weekly_Sales -0.085195    -0.002312   -0.000120   0.047172   0.020716   \n",
       "Size         -0.182881    -0.058313    0.003361   0.169788   0.078372   \n",
       "\n",
       "              MarkDown3  MarkDown4  MarkDown5       CPI  Unemployment  \\\n",
       "Store         -0.020331  -0.042724  -0.012452 -0.211088      0.208552   \n",
       "Temperature   -0.056026  -0.050281  -0.014752  0.182112      0.096730   \n",
       "Fuel_Price     0.018615   0.166622   0.215420 -0.164210     -0.033853   \n",
       "MarkDown1     -0.014411   0.838904   0.415050  0.010915     -0.105168   \n",
       "MarkDown2     -0.006080   0.113250   0.131735 -0.003554     -0.041427   \n",
       "MarkDown3      1.000000  -0.012020   0.042471 -0.005839     -0.018078   \n",
       "MarkDown4     -0.012020   1.000000   0.303370 -0.002047     -0.076513   \n",
       "MarkDown5      0.042471   0.303370   1.000000  0.067906     -0.120406   \n",
       "CPI           -0.005839  -0.002047   0.067906  1.000000     -0.299953   \n",
       "Unemployment  -0.018078  -0.076513  -0.120406 -0.299953      1.000000   \n",
       "Dept           0.001475   0.001937   0.002668 -0.007477      0.007837   \n",
       "Weekly_Sales   0.038562   0.037467   0.050465 -0.020921     -0.025864   \n",
       "Size           0.033641   0.127334   0.153011 -0.003314     -0.068238   \n",
       "\n",
       "                  Dept  Weekly_Sales      Size  \n",
       "Store         0.024004     -0.085195 -0.182881  \n",
       "Temperature   0.004437     -0.002312 -0.058313  \n",
       "Fuel_Price    0.003572     -0.000120  0.003361  \n",
       "MarkDown1     0.001494      0.047172  0.169788  \n",
       "MarkDown2     0.000587      0.020716  0.078372  \n",
       "MarkDown3     0.001475      0.038562  0.033641  \n",
       "MarkDown4     0.001937      0.037467  0.127334  \n",
       "MarkDown5     0.002668      0.050465  0.153011  \n",
       "CPI          -0.007477     -0.020921 -0.003314  \n",
       "Unemployment  0.007837     -0.025864 -0.068238  \n",
       "Dept          1.000000      0.148032 -0.002966  \n",
       "Weekly_Sales  0.148032      1.000000  0.243828  \n",
       "Size         -0.002966      0.243828  1.000000  "
      ]
     },
     "execution_count": 25,
     "metadata": {},
     "output_type": "execute_result"
    }
   ],
   "source": [
    "df[numeric_columns].corr()"
   ]
  },
  {
   "cell_type": "code",
   "execution_count": 26,
   "metadata": {},
   "outputs": [
    {
     "data": {
      "text/html": [
       "<div>\n",
       "<style scoped>\n",
       "    .dataframe tbody tr th:only-of-type {\n",
       "        vertical-align: middle;\n",
       "    }\n",
       "\n",
       "    .dataframe tbody tr th {\n",
       "        vertical-align: top;\n",
       "    }\n",
       "\n",
       "    .dataframe thead th {\n",
       "        text-align: right;\n",
       "    }\n",
       "</style>\n",
       "<table border=\"1\" class=\"dataframe\">\n",
       "  <thead>\n",
       "    <tr style=\"text-align: right;\">\n",
       "      <th></th>\n",
       "      <th>IsHoliday_x</th>\n",
       "      <th>IsHoliday_y</th>\n",
       "      <th>Type</th>\n",
       "    </tr>\n",
       "  </thead>\n",
       "  <tbody>\n",
       "    <tr>\n",
       "      <th>count</th>\n",
       "      <td>421570</td>\n",
       "      <td>421570</td>\n",
       "      <td>421570</td>\n",
       "    </tr>\n",
       "    <tr>\n",
       "      <th>unique</th>\n",
       "      <td>2</td>\n",
       "      <td>2</td>\n",
       "      <td>3</td>\n",
       "    </tr>\n",
       "    <tr>\n",
       "      <th>top</th>\n",
       "      <td>False</td>\n",
       "      <td>False</td>\n",
       "      <td>A</td>\n",
       "    </tr>\n",
       "    <tr>\n",
       "      <th>freq</th>\n",
       "      <td>391909</td>\n",
       "      <td>391909</td>\n",
       "      <td>215478</td>\n",
       "    </tr>\n",
       "  </tbody>\n",
       "</table>\n",
       "</div>"
      ],
      "text/plain": [
       "       IsHoliday_x IsHoliday_y    Type\n",
       "count       421570      421570  421570\n",
       "unique           2           2       3\n",
       "top          False       False       A\n",
       "freq        391909      391909  215478"
      ]
     },
     "execution_count": 26,
     "metadata": {},
     "output_type": "execute_result"
    }
   ],
   "source": [
    "df[string_columns].describe()"
   ]
  },
  {
   "cell_type": "code",
   "execution_count": 27,
   "metadata": {},
   "outputs": [],
   "source": [
    "df1=df.copy()"
   ]
  },
  {
   "cell_type": "code",
   "execution_count": 28,
   "metadata": {},
   "outputs": [
    {
     "data": {
      "text/html": [
       "<div>\n",
       "<style scoped>\n",
       "    .dataframe tbody tr th:only-of-type {\n",
       "        vertical-align: middle;\n",
       "    }\n",
       "\n",
       "    .dataframe tbody tr th {\n",
       "        vertical-align: top;\n",
       "    }\n",
       "\n",
       "    .dataframe thead th {\n",
       "        text-align: right;\n",
       "    }\n",
       "</style>\n",
       "<table border=\"1\" class=\"dataframe\">\n",
       "  <thead>\n",
       "    <tr style=\"text-align: right;\">\n",
       "      <th></th>\n",
       "      <th>Store</th>\n",
       "      <th>Date</th>\n",
       "      <th>Temperature</th>\n",
       "      <th>Fuel_Price</th>\n",
       "      <th>MarkDown1</th>\n",
       "      <th>MarkDown2</th>\n",
       "      <th>MarkDown3</th>\n",
       "      <th>MarkDown4</th>\n",
       "      <th>MarkDown5</th>\n",
       "      <th>CPI</th>\n",
       "      <th>Unemployment</th>\n",
       "      <th>IsHoliday_x</th>\n",
       "      <th>Dept</th>\n",
       "      <th>Weekly_Sales</th>\n",
       "      <th>IsHoliday_y</th>\n",
       "      <th>Type</th>\n",
       "      <th>Size</th>\n",
       "    </tr>\n",
       "  </thead>\n",
       "  <tbody>\n",
       "    <tr>\n",
       "      <th>0</th>\n",
       "      <td>1</td>\n",
       "      <td>2010-02-05</td>\n",
       "      <td>42.31</td>\n",
       "      <td>2.572</td>\n",
       "      <td>0.0</td>\n",
       "      <td>0.0</td>\n",
       "      <td>0.0</td>\n",
       "      <td>0.0</td>\n",
       "      <td>0.0</td>\n",
       "      <td>211.096358</td>\n",
       "      <td>8.106</td>\n",
       "      <td>False</td>\n",
       "      <td>1</td>\n",
       "      <td>24924.50</td>\n",
       "      <td>False</td>\n",
       "      <td>A</td>\n",
       "      <td>151315</td>\n",
       "    </tr>\n",
       "    <tr>\n",
       "      <th>1</th>\n",
       "      <td>1</td>\n",
       "      <td>2010-02-05</td>\n",
       "      <td>42.31</td>\n",
       "      <td>2.572</td>\n",
       "      <td>0.0</td>\n",
       "      <td>0.0</td>\n",
       "      <td>0.0</td>\n",
       "      <td>0.0</td>\n",
       "      <td>0.0</td>\n",
       "      <td>211.096358</td>\n",
       "      <td>8.106</td>\n",
       "      <td>False</td>\n",
       "      <td>2</td>\n",
       "      <td>50605.27</td>\n",
       "      <td>False</td>\n",
       "      <td>A</td>\n",
       "      <td>151315</td>\n",
       "    </tr>\n",
       "  </tbody>\n",
       "</table>\n",
       "</div>"
      ],
      "text/plain": [
       "   Store       Date  Temperature  Fuel_Price  MarkDown1  MarkDown2  MarkDown3  \\\n",
       "0      1 2010-02-05        42.31       2.572        0.0        0.0        0.0   \n",
       "1      1 2010-02-05        42.31       2.572        0.0        0.0        0.0   \n",
       "\n",
       "   MarkDown4  MarkDown5         CPI  Unemployment  IsHoliday_x  Dept  \\\n",
       "0        0.0        0.0  211.096358         8.106        False     1   \n",
       "1        0.0        0.0  211.096358         8.106        False     2   \n",
       "\n",
       "   Weekly_Sales  IsHoliday_y Type    Size  \n",
       "0      24924.50        False    A  151315  \n",
       "1      50605.27        False    A  151315  "
      ]
     },
     "execution_count": 28,
     "metadata": {},
     "output_type": "execute_result"
    }
   ],
   "source": [
    "df1.head(2)"
   ]
  },
  {
   "cell_type": "code",
   "execution_count": 29,
   "metadata": {},
   "outputs": [
    {
     "name": "stderr",
     "output_type": "stream",
     "text": [
      "c:\\Users\\Saravanan\\OneDrive\\Desktop\\Retail_sales(Final Project)\\.venv\\Lib\\site-packages\\sklearn\\preprocessing\\_label.py:97: DataConversionWarning: A column-vector y was passed when a 1d array was expected. Please change the shape of y to (n_samples, ), for example using ravel().\n",
      "  y = column_or_1d(y, warn=True)\n",
      "c:\\Users\\Saravanan\\OneDrive\\Desktop\\Retail_sales(Final Project)\\.venv\\Lib\\site-packages\\sklearn\\preprocessing\\_label.py:132: DataConversionWarning: A column-vector y was passed when a 1d array was expected. Please change the shape of y to (n_samples, ), for example using ravel().\n",
      "  y = column_or_1d(y, dtype=self.classes_.dtype, warn=True)\n",
      "c:\\Users\\Saravanan\\OneDrive\\Desktop\\Retail_sales(Final Project)\\.venv\\Lib\\site-packages\\sklearn\\preprocessing\\_label.py:97: DataConversionWarning: A column-vector y was passed when a 1d array was expected. Please change the shape of y to (n_samples, ), for example using ravel().\n",
      "  y = column_or_1d(y, warn=True)\n",
      "c:\\Users\\Saravanan\\OneDrive\\Desktop\\Retail_sales(Final Project)\\.venv\\Lib\\site-packages\\sklearn\\preprocessing\\_label.py:132: DataConversionWarning: A column-vector y was passed when a 1d array was expected. Please change the shape of y to (n_samples, ), for example using ravel().\n",
      "  y = column_or_1d(y, dtype=self.classes_.dtype, warn=True)\n",
      "c:\\Users\\Saravanan\\OneDrive\\Desktop\\Retail_sales(Final Project)\\.venv\\Lib\\site-packages\\sklearn\\preprocessing\\_label.py:97: DataConversionWarning: A column-vector y was passed when a 1d array was expected. Please change the shape of y to (n_samples, ), for example using ravel().\n",
      "  y = column_or_1d(y, warn=True)\n",
      "c:\\Users\\Saravanan\\OneDrive\\Desktop\\Retail_sales(Final Project)\\.venv\\Lib\\site-packages\\sklearn\\preprocessing\\_label.py:132: DataConversionWarning: A column-vector y was passed when a 1d array was expected. Please change the shape of y to (n_samples, ), for example using ravel().\n",
      "  y = column_or_1d(y, dtype=self.classes_.dtype, warn=True)\n"
     ]
    }
   ],
   "source": [
    "\n",
    "encode=LabelEncoder()\n",
    "\n",
    "for column in string_columns:\n",
    "  encode.fit(df1[[column]])\n",
    "  df1[column] = encode.transform(df1[[column]])"
   ]
  },
  {
   "cell_type": "code",
   "execution_count": 30,
   "metadata": {},
   "outputs": [
    {
     "data": {
      "text/html": [
       "<div>\n",
       "<style scoped>\n",
       "    .dataframe tbody tr th:only-of-type {\n",
       "        vertical-align: middle;\n",
       "    }\n",
       "\n",
       "    .dataframe tbody tr th {\n",
       "        vertical-align: top;\n",
       "    }\n",
       "\n",
       "    .dataframe thead th {\n",
       "        text-align: right;\n",
       "    }\n",
       "</style>\n",
       "<table border=\"1\" class=\"dataframe\">\n",
       "  <thead>\n",
       "    <tr style=\"text-align: right;\">\n",
       "      <th></th>\n",
       "      <th>Store</th>\n",
       "      <th>Date</th>\n",
       "      <th>Temperature</th>\n",
       "      <th>Fuel_Price</th>\n",
       "      <th>MarkDown1</th>\n",
       "      <th>MarkDown2</th>\n",
       "      <th>MarkDown3</th>\n",
       "      <th>MarkDown4</th>\n",
       "      <th>MarkDown5</th>\n",
       "      <th>CPI</th>\n",
       "      <th>Unemployment</th>\n",
       "      <th>IsHoliday_x</th>\n",
       "      <th>Dept</th>\n",
       "      <th>Weekly_Sales</th>\n",
       "      <th>IsHoliday_y</th>\n",
       "      <th>Type</th>\n",
       "      <th>Size</th>\n",
       "    </tr>\n",
       "  </thead>\n",
       "  <tbody>\n",
       "    <tr>\n",
       "      <th>0</th>\n",
       "      <td>1</td>\n",
       "      <td>2010-02-05</td>\n",
       "      <td>42.31</td>\n",
       "      <td>2.572</td>\n",
       "      <td>0.0</td>\n",
       "      <td>0.0</td>\n",
       "      <td>0.0</td>\n",
       "      <td>0.0</td>\n",
       "      <td>0.0</td>\n",
       "      <td>211.096358</td>\n",
       "      <td>8.106</td>\n",
       "      <td>0</td>\n",
       "      <td>1</td>\n",
       "      <td>24924.50</td>\n",
       "      <td>0</td>\n",
       "      <td>0</td>\n",
       "      <td>151315</td>\n",
       "    </tr>\n",
       "    <tr>\n",
       "      <th>1</th>\n",
       "      <td>1</td>\n",
       "      <td>2010-02-05</td>\n",
       "      <td>42.31</td>\n",
       "      <td>2.572</td>\n",
       "      <td>0.0</td>\n",
       "      <td>0.0</td>\n",
       "      <td>0.0</td>\n",
       "      <td>0.0</td>\n",
       "      <td>0.0</td>\n",
       "      <td>211.096358</td>\n",
       "      <td>8.106</td>\n",
       "      <td>0</td>\n",
       "      <td>2</td>\n",
       "      <td>50605.27</td>\n",
       "      <td>0</td>\n",
       "      <td>0</td>\n",
       "      <td>151315</td>\n",
       "    </tr>\n",
       "  </tbody>\n",
       "</table>\n",
       "</div>"
      ],
      "text/plain": [
       "   Store       Date  Temperature  Fuel_Price  MarkDown1  MarkDown2  MarkDown3  \\\n",
       "0      1 2010-02-05        42.31       2.572        0.0        0.0        0.0   \n",
       "1      1 2010-02-05        42.31       2.572        0.0        0.0        0.0   \n",
       "\n",
       "   MarkDown4  MarkDown5         CPI  Unemployment  IsHoliday_x  Dept  \\\n",
       "0        0.0        0.0  211.096358         8.106            0     1   \n",
       "1        0.0        0.0  211.096358         8.106            0     2   \n",
       "\n",
       "   Weekly_Sales  IsHoliday_y  Type    Size  \n",
       "0      24924.50            0     0  151315  \n",
       "1      50605.27            0     0  151315  "
      ]
     },
     "execution_count": 30,
     "metadata": {},
     "output_type": "execute_result"
    }
   ],
   "source": [
    "df1.head(2)"
   ]
  },
  {
   "cell_type": "code",
   "execution_count": 31,
   "metadata": {},
   "outputs": [
    {
     "data": {
      "application/vnd.plotly.v1+json": {
       "config": {
        "plotlyServerURL": "https://plot.ly"
       },
       "data": [
        {
         "coloraxis": "coloraxis",
         "hovertemplate": "x: %{x}<br>y: %{y}<br>color: %{z}<extra></extra>",
         "name": "0",
         "type": "heatmap",
         "x": [
          "Store",
          "Date",
          "Temperature",
          "Fuel_Price",
          "MarkDown1",
          "MarkDown2",
          "MarkDown3",
          "MarkDown4",
          "MarkDown5",
          "CPI",
          "Unemployment",
          "IsHoliday_x",
          "Dept",
          "Weekly_Sales",
          "IsHoliday_y",
          "Type",
          "Size"
         ],
         "xaxis": "x",
         "y": [
          "Store",
          "Date",
          "Temperature",
          "Fuel_Price",
          "MarkDown1",
          "MarkDown2",
          "MarkDown3",
          "MarkDown4",
          "MarkDown5",
          "CPI",
          "Unemployment",
          "IsHoliday_x",
          "Dept",
          "Weekly_Sales",
          "IsHoliday_y",
          "Type",
          "Size"
         ],
         "yaxis": "y",
         "z": [
          [
           1,
           0.0033617040130263804,
           -0.05009694305761188,
           0.06529017268854716,
           -0.05984406681373178,
           -0.03382905227638421,
           -0.02033074922325628,
           -0.04272445814971761,
           -0.012451517444150425,
           -0.21108778320905092,
           0.20855168377216857,
           -0.00054798800339438,
           0.024003667518133907,
           -0.08519499183241551,
           -0.00054798800339438,
           0.22640975339759975,
           -0.18288146007993056
          ],
          [
           0.0033617040130263804,
           1,
           0.14706357040909873,
           0.7719126019180691,
           0.47086500543987014,
           0.1279750026985583,
           0.048749122990069026,
           0.29747192277836115,
           0.4235989413182224,
           0.07700128780922798,
           -0.24337000763439748,
           -0.013017168171464874,
           0.004054373820494441,
           -0.0006627784989559257,
           -0.013017168171464874,
           0.004223075376015624,
           -0.005436742786344711
          ],
          [
           -0.05009694305761188,
           0.14706357040909873,
           1,
           0.14385881912448092,
           -0.02641513323613352,
           -0.17967244823505582,
           -0.056026324359405064,
           -0.0502809095599529,
           -0.014752445322528673,
           0.18211160744588928,
           0.0967301803033489,
           -0.15594855884126876,
           0.004436524252380754,
           -0.002312447010260159,
           -0.15594855884126876,
           0.042981416062364546,
           -0.05831293995416027
          ],
          [
           0.06529017268854716,
           0.7719126019180691,
           0.14385881912448092,
           1,
           0.29705626212160935,
           0.029153236995914683,
           0.018614901801767843,
           0.16662194813678885,
           0.21541970196658616,
           -0.1642104061539901,
           -0.033852702609042676,
           -0.07828113721077534,
           0.003571981510190518,
           -0.00012029554500368817,
           -0.07828113721077534,
           0.029686567887891917,
           0.0033611897598551294
          ],
          [
           -0.05984406681373178,
           0.47086500543987014,
           -0.02641513323613352,
           0.29705626212160935,
           1,
           0.1748676838742639,
           -0.01441093950890011,
           0.8389044151764807,
           0.41505018344645245,
           0.010914758447860787,
           -0.10516829443074814,
           -0.0035206127658180663,
           0.0014941425560832291,
           0.04717234208460329,
           -0.0035206127658180663,
           -0.12634461144951384,
           0.16978754960294035
          ],
          [
           -0.03382905227638421,
           0.1279750026985583,
           -0.17967244823505582,
           0.029153236995914683,
           0.1748676838742639,
           1,
           -0.006080232082891265,
           0.11324998820397333,
           0.13173508632140957,
           -0.00355389886569868,
           -0.04142728104176874,
           0.20760410749257838,
           0.0005868555269091704,
           0.02071646717171371,
           0.20760410749257838,
           -0.05531758021492552,
           0.07837220181937975
          ],
          [
           -0.02033074922325628,
           0.048749122990069026,
           -0.056026324359405064,
           0.018614901801767843,
           -0.01441093950890011,
           -0.006080232082891265,
           1,
           -0.01202009263933774,
           0.04247115971348569,
           -0.005838832901966868,
           -0.018077637777850025,
           0.2664712737826597,
           0.0014754690893952146,
           0.038562038659684966,
           0.2664712737826597,
           -0.024012570244047123,
           0.03364141620550821
          ],
          [
           -0.04272445814971761,
           0.29747192277836115,
           -0.0502809095599529,
           0.16662194813678885,
           0.8389044151764807,
           0.11324998820397333,
           -0.01202009263933774,
           1,
           0.3033695752829983,
           -0.002047144362621502,
           -0.07651283584315194,
           0.011565265837894209,
           0.0019373127513002577,
           0.037467180682095105,
           0.011565265837894209,
           -0.08977028435025756,
           0.12733356049263733
          ],
          [
           -0.012451517444150425,
           0.4235989413182224,
           -0.014752445322528673,
           0.21541970196658616,
           0.41505018344645245,
           0.13173508632140957,
           0.04247115971348569,
           0.3033695752829983,
           1,
           0.06790590389027207,
           -0.12040627836606484,
           -0.015235384033905631,
           0.0026680346649604544,
           0.05046529333790703,
           -0.015235384033905631,
           -0.13012518299452652,
           0.15301069832941983
          ],
          [
           -0.21108778320905092,
           0.07700128780922798,
           0.18211160744588928,
           -0.1642104061539901,
           0.010914758447860787,
           -0.00355389886569868,
           -0.005838832901966868,
           -0.002047144362621502,
           0.06790590389027207,
           1,
           -0.29995301843900596,
           -0.001943510875103053,
           -0.0074773864202428595,
           -0.020921335318822554,
           -0.001943510875103053,
           -0.06581194877016076,
           -0.003314357528314494
          ],
          [
           0.20855168377216857,
           -0.24337000763439748,
           0.0967301803033489,
           -0.033852702609042676,
           -0.10516829443074814,
           -0.04142728104176874,
           -0.018077637777850025,
           -0.07651283584315194,
           -0.12040627836606484,
           -0.29995301843900596,
           1,
           0.01045954358573347,
           0.007836770964278775,
           -0.025863716499838683,
           0.01045954358573347,
           0.14871988686999243,
           -0.0682382537296798
          ],
          [
           -0.00054798800339438,
           -0.013017168171464874,
           -0.15594855884126876,
           -0.07828113721077534,
           -0.0035206127658180663,
           0.20760410749257838,
           0.2664712737826597,
           0.011565265837894209,
           -0.015235384033905631,
           -0.001943510875103053,
           0.01045954358573347,
           1,
           0.0009161019048196713,
           0.012774220374854019,
           1,
           -0.0007984967188757142,
           0.0005930379491881132
          ],
          [
           0.024003667518133907,
           0.004054373820494441,
           0.004436524252380754,
           0.003571981510190518,
           0.0014941425560832291,
           0.0005868555269091704,
           0.0014754690893952146,
           0.0019373127513002577,
           0.0026680346649604544,
           -0.0074773864202428595,
           0.007836770964278775,
           0.0009161019048196713,
           1,
           0.1480320600130445,
           0.0009161019048196738,
           0.003708271872702706,
           -0.0029664586701259256
          ],
          [
           -0.08519499183241551,
           -0.0006627784989559257,
           -0.002312447010260159,
           -0.00012029554500368817,
           0.04717234208460329,
           0.02071646717171371,
           0.038562038659684966,
           0.037467180682095105,
           0.05046529333790703,
           -0.020921335318822554,
           -0.025863716499838683,
           0.012774220374854019,
           0.1480320600130445,
           1,
           0.012774220374854022,
           -0.18224218124402322,
           0.24382799226304594
          ],
          [
           -0.00054798800339438,
           -0.013017168171464874,
           -0.15594855884126876,
           -0.07828113721077534,
           -0.0035206127658180663,
           0.20760410749257838,
           0.2664712737826597,
           0.011565265837894209,
           -0.015235384033905631,
           -0.001943510875103053,
           0.01045954358573347,
           1,
           0.0009161019048196738,
           0.012774220374854022,
           1,
           -0.0007984967188757142,
           0.0005930379491881132
          ],
          [
           0.22640975339759975,
           0.004223075376015624,
           0.042981416062364546,
           0.029686567887891917,
           -0.12634461144951384,
           -0.05531758021492552,
           -0.024012570244047123,
           -0.08977028435025756,
           -0.13012518299452652,
           -0.06581194877016076,
           0.14871988686999243,
           -0.0007984967188757142,
           0.003708271872702706,
           -0.18224218124402322,
           -0.0007984967188757142,
           1,
           -0.8115928352259286
          ],
          [
           -0.18288146007993056,
           -0.005436742786344711,
           -0.05831293995416027,
           0.0033611897598551294,
           0.16978754960294035,
           0.07837220181937975,
           0.03364141620550821,
           0.12733356049263733,
           0.15301069832941983,
           -0.003314357528314494,
           -0.0682382537296798,
           0.0005930379491881132,
           -0.0029664586701259256,
           0.24382799226304594,
           0.0005930379491881132,
           -0.8115928352259286,
           1
          ]
         ]
        }
       ],
       "layout": {
        "coloraxis": {
         "colorscale": [
          [
           0,
           "#440154"
          ],
          [
           0.1111111111111111,
           "#482878"
          ],
          [
           0.2222222222222222,
           "#3e4989"
          ],
          [
           0.3333333333333333,
           "#31688e"
          ],
          [
           0.4444444444444444,
           "#26828e"
          ],
          [
           0.5555555555555556,
           "#1f9e89"
          ],
          [
           0.6666666666666666,
           "#35b779"
          ],
          [
           0.7777777777777778,
           "#6ece58"
          ],
          [
           0.8888888888888888,
           "#b5de2b"
          ],
          [
           1,
           "#fde725"
          ]
         ]
        },
        "template": {
         "data": {
          "bar": [
           {
            "error_x": {
             "color": "#2a3f5f"
            },
            "error_y": {
             "color": "#2a3f5f"
            },
            "marker": {
             "line": {
              "color": "#E5ECF6",
              "width": 0.5
             },
             "pattern": {
              "fillmode": "overlay",
              "size": 10,
              "solidity": 0.2
             }
            },
            "type": "bar"
           }
          ],
          "barpolar": [
           {
            "marker": {
             "line": {
              "color": "#E5ECF6",
              "width": 0.5
             },
             "pattern": {
              "fillmode": "overlay",
              "size": 10,
              "solidity": 0.2
             }
            },
            "type": "barpolar"
           }
          ],
          "carpet": [
           {
            "aaxis": {
             "endlinecolor": "#2a3f5f",
             "gridcolor": "white",
             "linecolor": "white",
             "minorgridcolor": "white",
             "startlinecolor": "#2a3f5f"
            },
            "baxis": {
             "endlinecolor": "#2a3f5f",
             "gridcolor": "white",
             "linecolor": "white",
             "minorgridcolor": "white",
             "startlinecolor": "#2a3f5f"
            },
            "type": "carpet"
           }
          ],
          "choropleth": [
           {
            "colorbar": {
             "outlinewidth": 0,
             "ticks": ""
            },
            "type": "choropleth"
           }
          ],
          "contour": [
           {
            "colorbar": {
             "outlinewidth": 0,
             "ticks": ""
            },
            "colorscale": [
             [
              0,
              "#0d0887"
             ],
             [
              0.1111111111111111,
              "#46039f"
             ],
             [
              0.2222222222222222,
              "#7201a8"
             ],
             [
              0.3333333333333333,
              "#9c179e"
             ],
             [
              0.4444444444444444,
              "#bd3786"
             ],
             [
              0.5555555555555556,
              "#d8576b"
             ],
             [
              0.6666666666666666,
              "#ed7953"
             ],
             [
              0.7777777777777778,
              "#fb9f3a"
             ],
             [
              0.8888888888888888,
              "#fdca26"
             ],
             [
              1,
              "#f0f921"
             ]
            ],
            "type": "contour"
           }
          ],
          "contourcarpet": [
           {
            "colorbar": {
             "outlinewidth": 0,
             "ticks": ""
            },
            "type": "contourcarpet"
           }
          ],
          "heatmap": [
           {
            "colorbar": {
             "outlinewidth": 0,
             "ticks": ""
            },
            "colorscale": [
             [
              0,
              "#0d0887"
             ],
             [
              0.1111111111111111,
              "#46039f"
             ],
             [
              0.2222222222222222,
              "#7201a8"
             ],
             [
              0.3333333333333333,
              "#9c179e"
             ],
             [
              0.4444444444444444,
              "#bd3786"
             ],
             [
              0.5555555555555556,
              "#d8576b"
             ],
             [
              0.6666666666666666,
              "#ed7953"
             ],
             [
              0.7777777777777778,
              "#fb9f3a"
             ],
             [
              0.8888888888888888,
              "#fdca26"
             ],
             [
              1,
              "#f0f921"
             ]
            ],
            "type": "heatmap"
           }
          ],
          "heatmapgl": [
           {
            "colorbar": {
             "outlinewidth": 0,
             "ticks": ""
            },
            "colorscale": [
             [
              0,
              "#0d0887"
             ],
             [
              0.1111111111111111,
              "#46039f"
             ],
             [
              0.2222222222222222,
              "#7201a8"
             ],
             [
              0.3333333333333333,
              "#9c179e"
             ],
             [
              0.4444444444444444,
              "#bd3786"
             ],
             [
              0.5555555555555556,
              "#d8576b"
             ],
             [
              0.6666666666666666,
              "#ed7953"
             ],
             [
              0.7777777777777778,
              "#fb9f3a"
             ],
             [
              0.8888888888888888,
              "#fdca26"
             ],
             [
              1,
              "#f0f921"
             ]
            ],
            "type": "heatmapgl"
           }
          ],
          "histogram": [
           {
            "marker": {
             "pattern": {
              "fillmode": "overlay",
              "size": 10,
              "solidity": 0.2
             }
            },
            "type": "histogram"
           }
          ],
          "histogram2d": [
           {
            "colorbar": {
             "outlinewidth": 0,
             "ticks": ""
            },
            "colorscale": [
             [
              0,
              "#0d0887"
             ],
             [
              0.1111111111111111,
              "#46039f"
             ],
             [
              0.2222222222222222,
              "#7201a8"
             ],
             [
              0.3333333333333333,
              "#9c179e"
             ],
             [
              0.4444444444444444,
              "#bd3786"
             ],
             [
              0.5555555555555556,
              "#d8576b"
             ],
             [
              0.6666666666666666,
              "#ed7953"
             ],
             [
              0.7777777777777778,
              "#fb9f3a"
             ],
             [
              0.8888888888888888,
              "#fdca26"
             ],
             [
              1,
              "#f0f921"
             ]
            ],
            "type": "histogram2d"
           }
          ],
          "histogram2dcontour": [
           {
            "colorbar": {
             "outlinewidth": 0,
             "ticks": ""
            },
            "colorscale": [
             [
              0,
              "#0d0887"
             ],
             [
              0.1111111111111111,
              "#46039f"
             ],
             [
              0.2222222222222222,
              "#7201a8"
             ],
             [
              0.3333333333333333,
              "#9c179e"
             ],
             [
              0.4444444444444444,
              "#bd3786"
             ],
             [
              0.5555555555555556,
              "#d8576b"
             ],
             [
              0.6666666666666666,
              "#ed7953"
             ],
             [
              0.7777777777777778,
              "#fb9f3a"
             ],
             [
              0.8888888888888888,
              "#fdca26"
             ],
             [
              1,
              "#f0f921"
             ]
            ],
            "type": "histogram2dcontour"
           }
          ],
          "mesh3d": [
           {
            "colorbar": {
             "outlinewidth": 0,
             "ticks": ""
            },
            "type": "mesh3d"
           }
          ],
          "parcoords": [
           {
            "line": {
             "colorbar": {
              "outlinewidth": 0,
              "ticks": ""
             }
            },
            "type": "parcoords"
           }
          ],
          "pie": [
           {
            "automargin": true,
            "type": "pie"
           }
          ],
          "scatter": [
           {
            "fillpattern": {
             "fillmode": "overlay",
             "size": 10,
             "solidity": 0.2
            },
            "type": "scatter"
           }
          ],
          "scatter3d": [
           {
            "line": {
             "colorbar": {
              "outlinewidth": 0,
              "ticks": ""
             }
            },
            "marker": {
             "colorbar": {
              "outlinewidth": 0,
              "ticks": ""
             }
            },
            "type": "scatter3d"
           }
          ],
          "scattercarpet": [
           {
            "marker": {
             "colorbar": {
              "outlinewidth": 0,
              "ticks": ""
             }
            },
            "type": "scattercarpet"
           }
          ],
          "scattergeo": [
           {
            "marker": {
             "colorbar": {
              "outlinewidth": 0,
              "ticks": ""
             }
            },
            "type": "scattergeo"
           }
          ],
          "scattergl": [
           {
            "marker": {
             "colorbar": {
              "outlinewidth": 0,
              "ticks": ""
             }
            },
            "type": "scattergl"
           }
          ],
          "scattermapbox": [
           {
            "marker": {
             "colorbar": {
              "outlinewidth": 0,
              "ticks": ""
             }
            },
            "type": "scattermapbox"
           }
          ],
          "scatterpolar": [
           {
            "marker": {
             "colorbar": {
              "outlinewidth": 0,
              "ticks": ""
             }
            },
            "type": "scatterpolar"
           }
          ],
          "scatterpolargl": [
           {
            "marker": {
             "colorbar": {
              "outlinewidth": 0,
              "ticks": ""
             }
            },
            "type": "scatterpolargl"
           }
          ],
          "scatterternary": [
           {
            "marker": {
             "colorbar": {
              "outlinewidth": 0,
              "ticks": ""
             }
            },
            "type": "scatterternary"
           }
          ],
          "surface": [
           {
            "colorbar": {
             "outlinewidth": 0,
             "ticks": ""
            },
            "colorscale": [
             [
              0,
              "#0d0887"
             ],
             [
              0.1111111111111111,
              "#46039f"
             ],
             [
              0.2222222222222222,
              "#7201a8"
             ],
             [
              0.3333333333333333,
              "#9c179e"
             ],
             [
              0.4444444444444444,
              "#bd3786"
             ],
             [
              0.5555555555555556,
              "#d8576b"
             ],
             [
              0.6666666666666666,
              "#ed7953"
             ],
             [
              0.7777777777777778,
              "#fb9f3a"
             ],
             [
              0.8888888888888888,
              "#fdca26"
             ],
             [
              1,
              "#f0f921"
             ]
            ],
            "type": "surface"
           }
          ],
          "table": [
           {
            "cells": {
             "fill": {
              "color": "#EBF0F8"
             },
             "line": {
              "color": "white"
             }
            },
            "header": {
             "fill": {
              "color": "#C8D4E3"
             },
             "line": {
              "color": "white"
             }
            },
            "type": "table"
           }
          ]
         },
         "layout": {
          "annotationdefaults": {
           "arrowcolor": "#2a3f5f",
           "arrowhead": 0,
           "arrowwidth": 1
          },
          "autotypenumbers": "strict",
          "coloraxis": {
           "colorbar": {
            "outlinewidth": 0,
            "ticks": ""
           }
          },
          "colorscale": {
           "diverging": [
            [
             0,
             "#8e0152"
            ],
            [
             0.1,
             "#c51b7d"
            ],
            [
             0.2,
             "#de77ae"
            ],
            [
             0.3,
             "#f1b6da"
            ],
            [
             0.4,
             "#fde0ef"
            ],
            [
             0.5,
             "#f7f7f7"
            ],
            [
             0.6,
             "#e6f5d0"
            ],
            [
             0.7,
             "#b8e186"
            ],
            [
             0.8,
             "#7fbc41"
            ],
            [
             0.9,
             "#4d9221"
            ],
            [
             1,
             "#276419"
            ]
           ],
           "sequential": [
            [
             0,
             "#0d0887"
            ],
            [
             0.1111111111111111,
             "#46039f"
            ],
            [
             0.2222222222222222,
             "#7201a8"
            ],
            [
             0.3333333333333333,
             "#9c179e"
            ],
            [
             0.4444444444444444,
             "#bd3786"
            ],
            [
             0.5555555555555556,
             "#d8576b"
            ],
            [
             0.6666666666666666,
             "#ed7953"
            ],
            [
             0.7777777777777778,
             "#fb9f3a"
            ],
            [
             0.8888888888888888,
             "#fdca26"
            ],
            [
             1,
             "#f0f921"
            ]
           ],
           "sequentialminus": [
            [
             0,
             "#0d0887"
            ],
            [
             0.1111111111111111,
             "#46039f"
            ],
            [
             0.2222222222222222,
             "#7201a8"
            ],
            [
             0.3333333333333333,
             "#9c179e"
            ],
            [
             0.4444444444444444,
             "#bd3786"
            ],
            [
             0.5555555555555556,
             "#d8576b"
            ],
            [
             0.6666666666666666,
             "#ed7953"
            ],
            [
             0.7777777777777778,
             "#fb9f3a"
            ],
            [
             0.8888888888888888,
             "#fdca26"
            ],
            [
             1,
             "#f0f921"
            ]
           ]
          },
          "colorway": [
           "#636efa",
           "#EF553B",
           "#00cc96",
           "#ab63fa",
           "#FFA15A",
           "#19d3f3",
           "#FF6692",
           "#B6E880",
           "#FF97FF",
           "#FECB52"
          ],
          "font": {
           "color": "#2a3f5f"
          },
          "geo": {
           "bgcolor": "white",
           "lakecolor": "white",
           "landcolor": "#E5ECF6",
           "showlakes": true,
           "showland": true,
           "subunitcolor": "white"
          },
          "hoverlabel": {
           "align": "left"
          },
          "hovermode": "closest",
          "mapbox": {
           "style": "light"
          },
          "paper_bgcolor": "white",
          "plot_bgcolor": "#E5ECF6",
          "polar": {
           "angularaxis": {
            "gridcolor": "white",
            "linecolor": "white",
            "ticks": ""
           },
           "bgcolor": "#E5ECF6",
           "radialaxis": {
            "gridcolor": "white",
            "linecolor": "white",
            "ticks": ""
           }
          },
          "scene": {
           "xaxis": {
            "backgroundcolor": "#E5ECF6",
            "gridcolor": "white",
            "gridwidth": 2,
            "linecolor": "white",
            "showbackground": true,
            "ticks": "",
            "zerolinecolor": "white"
           },
           "yaxis": {
            "backgroundcolor": "#E5ECF6",
            "gridcolor": "white",
            "gridwidth": 2,
            "linecolor": "white",
            "showbackground": true,
            "ticks": "",
            "zerolinecolor": "white"
           },
           "zaxis": {
            "backgroundcolor": "#E5ECF6",
            "gridcolor": "white",
            "gridwidth": 2,
            "linecolor": "white",
            "showbackground": true,
            "ticks": "",
            "zerolinecolor": "white"
           }
          },
          "shapedefaults": {
           "line": {
            "color": "#2a3f5f"
           }
          },
          "ternary": {
           "aaxis": {
            "gridcolor": "white",
            "linecolor": "white",
            "ticks": ""
           },
           "baxis": {
            "gridcolor": "white",
            "linecolor": "white",
            "ticks": ""
           },
           "bgcolor": "#E5ECF6",
           "caxis": {
            "gridcolor": "white",
            "linecolor": "white",
            "ticks": ""
           }
          },
          "title": {
           "x": 0.05
          },
          "xaxis": {
           "automargin": true,
           "gridcolor": "white",
           "linecolor": "white",
           "ticks": "",
           "title": {
            "standoff": 15
           },
           "zerolinecolor": "white",
           "zerolinewidth": 2
          },
          "yaxis": {
           "automargin": true,
           "gridcolor": "white",
           "linecolor": "white",
           "ticks": "",
           "title": {
            "standoff": 15
           },
           "zerolinecolor": "white",
           "zerolinewidth": 2
          }
         }
        },
        "title": {
         "text": "Correlation Matrix"
        },
        "xaxis": {
         "anchor": "y",
         "constrain": "domain",
         "domain": [
          0,
          1
         ],
         "scaleanchor": "y"
        },
        "yaxis": {
         "anchor": "x",
         "autorange": "reversed",
         "constrain": "domain",
         "domain": [
          0,
          1
         ]
        }
       }
      }
     },
     "metadata": {},
     "output_type": "display_data"
    }
   ],
   "source": [
    "correlation_matrix = df1.corr()\n",
    "fig = px.imshow(correlation_matrix, color_continuous_scale='Viridis',\n",
    "                title=\"Correlation Matrix\")\n",
    "fig.show()"
   ]
  },
  {
   "cell_type": "code",
   "execution_count": 41,
   "metadata": {},
   "outputs": [],
   "source": [
    "def plot(df,column):\n",
    "    plt.figure(figsize=(10,5))\n",
    "    plt.subplot(1,2,1)\n",
    "    sns.barplot(data=df,x=column)\n",
    "    plt.title(\"barplot\")\n",
    "\n",
    "    plt.subplot(1,2,2)\n",
    "    sns.histplot(data=df, x=column, kde=True, bins=50)\n",
    "    plt.title(f'Distribution Plot for {column}')\n",
    "\n"
   ]
  },
  {
   "cell_type": "code",
   "execution_count": 42,
   "metadata": {},
   "outputs": [
    {
     "data": {
      "image/png": "[encoded data removed]",
      "text/plain": [
       "<Figure size 1000x500 with 2 Axes>"
      ]
     },
     "metadata": {},
     "output_type": "display_data"
    },
    {
     "data": {
      "image/png": "[encoded data removed]",
      "text/plain": [
       "<Figure size 1000x500 with 2 Axes>"
      ]
     },
     "metadata": {},
     "output_type": "display_data"
    },
    {
     "data": {
      "image/png": "[encoded data removed]",
      "text/plain": [
       "<Figure size 1000x500 with 2 Axes>"
      ]
     },
     "metadata": {},
     "output_type": "display_data"
    },
    {
     "data": {
      "image/png": "[encoded data removed]",
      "text/plain": [
       "<Figure size 1000x500 with 2 Axes>"
      ]
     },
     "metadata": {},
     "output_type": "display_data"
    },
    {
     "data": {
      "image/png": "[encoded data removed]",
      "text/plain": [
       "<Figure size 1000x500 with 2 Axes>"
      ]
     },
     "metadata": {},
     "output_type": "display_data"
    },
    {
     "data": {
      "image/png": "[encoded data removed]",
      "text/plain": [
       "<Figure size 1000x500 with 2 Axes>"
      ]
     },
     "metadata": {},
     "output_type": "display_data"
    },
    {
     "data": {
      "image/png": "[encoded data removed]",
      "text/plain": [
       "<Figure size 1000x500 with 2 Axes>"
      ]
     },
     "metadata": {},
     "output_type": "display_data"
    },
    {
     "data": {
      "image/png": "[encoded data removed]",
      "text/plain": [
       "<Figure size 1000x500 with 2 Axes>"
      ]
     },
     "metadata": {},
     "output_type": "display_data"
    },
    {
     "data": {
      "image/png": "[encoded data removed]",
      "text/plain": [
       "<Figure size 1000x500 with 2 Axes>"
      ]
     },
     "metadata": {},
     "output_type": "display_data"
    },
    {
     "data": {
      "image/png": "[encoded data removed]",
      "text/plain": [
       "<Figure size 1000x500 with 2 Axes>"
      ]
     },
     "metadata": {},
     "output_type": "display_data"
    },
    {
     "data": {
      "image/png": "[encoded data removed]",
      "text/plain": [
       "<Figure size 1000x500 with 2 Axes>"
      ]
     },
     "metadata": {},
     "output_type": "display_data"
    },
    {
     "data": {
      "image/png": "[encoded data removed]",
      "text/plain": [
       "<Figure size 1000x500 with 2 Axes>"
      ]
     },
     "metadata": {},
     "output_type": "display_data"
    },
    {
     "data": {
      "image/png": "[encoded data removed]",
      "text/plain": [
       "<Figure size 1000x500 with 2 Axes>"
      ]
     },
     "metadata": {},
     "output_type": "display_data"
    }
   ],
   "source": [
    "for i in numeric_columns:\n",
    "    plot(df1, i)"
   ]
  },
  {
   "cell_type": "code",
   "execution_count": 43,
   "metadata": {},
   "outputs": [
    {
     "data": {
      "text/html": [
       "<div>\n",
       "<style scoped>\n",
       "    .dataframe tbody tr th:only-of-type {\n",
       "        vertical-align: middle;\n",
       "    }\n",
       "\n",
       "    .dataframe tbody tr th {\n",
       "        vertical-align: top;\n",
       "    }\n",
       "\n",
       "    .dataframe thead th {\n",
       "        text-align: right;\n",
       "    }\n",
       "</style>\n",
       "<table border=\"1\" class=\"dataframe\">\n",
       "  <thead>\n",
       "    <tr style=\"text-align: right;\">\n",
       "      <th></th>\n",
       "      <th>Store</th>\n",
       "      <th>Date</th>\n",
       "      <th>Temperature</th>\n",
       "      <th>Fuel_Price</th>\n",
       "      <th>MarkDown1</th>\n",
       "      <th>MarkDown2</th>\n",
       "      <th>MarkDown3</th>\n",
       "      <th>MarkDown4</th>\n",
       "      <th>MarkDown5</th>\n",
       "      <th>CPI</th>\n",
       "      <th>Unemployment</th>\n",
       "      <th>IsHoliday_x</th>\n",
       "      <th>Dept</th>\n",
       "      <th>Weekly_Sales</th>\n",
       "      <th>IsHoliday_y</th>\n",
       "      <th>Type</th>\n",
       "      <th>Size</th>\n",
       "      <th>month</th>\n",
       "      <th>year</th>\n",
       "      <th>day</th>\n",
       "    </tr>\n",
       "  </thead>\n",
       "  <tbody>\n",
       "    <tr>\n",
       "      <th>0</th>\n",
       "      <td>1</td>\n",
       "      <td>2010-02-05</td>\n",
       "      <td>42.31</td>\n",
       "      <td>2.572</td>\n",
       "      <td>0.0</td>\n",
       "      <td>0.0</td>\n",
       "      <td>0.0</td>\n",
       "      <td>0.0</td>\n",
       "      <td>0.0</td>\n",
       "      <td>211.096358</td>\n",
       "      <td>8.106</td>\n",
       "      <td>0</td>\n",
       "      <td>1</td>\n",
       "      <td>24924.50</td>\n",
       "      <td>0</td>\n",
       "      <td>0</td>\n",
       "      <td>151315</td>\n",
       "      <td>2</td>\n",
       "      <td>2010</td>\n",
       "      <td>5</td>\n",
       "    </tr>\n",
       "    <tr>\n",
       "      <th>1</th>\n",
       "      <td>1</td>\n",
       "      <td>2010-02-05</td>\n",
       "      <td>42.31</td>\n",
       "      <td>2.572</td>\n",
       "      <td>0.0</td>\n",
       "      <td>0.0</td>\n",
       "      <td>0.0</td>\n",
       "      <td>0.0</td>\n",
       "      <td>0.0</td>\n",
       "      <td>211.096358</td>\n",
       "      <td>8.106</td>\n",
       "      <td>0</td>\n",
       "      <td>2</td>\n",
       "      <td>50605.27</td>\n",
       "      <td>0</td>\n",
       "      <td>0</td>\n",
       "      <td>151315</td>\n",
       "      <td>2</td>\n",
       "      <td>2010</td>\n",
       "      <td>5</td>\n",
       "    </tr>\n",
       "    <tr>\n",
       "      <th>2</th>\n",
       "      <td>1</td>\n",
       "      <td>2010-02-05</td>\n",
       "      <td>42.31</td>\n",
       "      <td>2.572</td>\n",
       "      <td>0.0</td>\n",
       "      <td>0.0</td>\n",
       "      <td>0.0</td>\n",
       "      <td>0.0</td>\n",
       "      <td>0.0</td>\n",
       "      <td>211.096358</td>\n",
       "      <td>8.106</td>\n",
       "      <td>0</td>\n",
       "      <td>3</td>\n",
       "      <td>13740.12</td>\n",
       "      <td>0</td>\n",
       "      <td>0</td>\n",
       "      <td>151315</td>\n",
       "      <td>2</td>\n",
       "      <td>2010</td>\n",
       "      <td>5</td>\n",
       "    </tr>\n",
       "    <tr>\n",
       "      <th>3</th>\n",
       "      <td>1</td>\n",
       "      <td>2010-02-05</td>\n",
       "      <td>42.31</td>\n",
       "      <td>2.572</td>\n",
       "      <td>0.0</td>\n",
       "      <td>0.0</td>\n",
       "      <td>0.0</td>\n",
       "      <td>0.0</td>\n",
       "      <td>0.0</td>\n",
       "      <td>211.096358</td>\n",
       "      <td>8.106</td>\n",
       "      <td>0</td>\n",
       "      <td>4</td>\n",
       "      <td>39954.04</td>\n",
       "      <td>0</td>\n",
       "      <td>0</td>\n",
       "      <td>151315</td>\n",
       "      <td>2</td>\n",
       "      <td>2010</td>\n",
       "      <td>5</td>\n",
       "    </tr>\n",
       "    <tr>\n",
       "      <th>4</th>\n",
       "      <td>1</td>\n",
       "      <td>2010-02-05</td>\n",
       "      <td>42.31</td>\n",
       "      <td>2.572</td>\n",
       "      <td>0.0</td>\n",
       "      <td>0.0</td>\n",
       "      <td>0.0</td>\n",
       "      <td>0.0</td>\n",
       "      <td>0.0</td>\n",
       "      <td>211.096358</td>\n",
       "      <td>8.106</td>\n",
       "      <td>0</td>\n",
       "      <td>5</td>\n",
       "      <td>32229.38</td>\n",
       "      <td>0</td>\n",
       "      <td>0</td>\n",
       "      <td>151315</td>\n",
       "      <td>2</td>\n",
       "      <td>2010</td>\n",
       "      <td>5</td>\n",
       "    </tr>\n",
       "  </tbody>\n",
       "</table>\n",
       "</div>"
      ],
      "text/plain": [
       "   Store       Date  Temperature  Fuel_Price  MarkDown1  MarkDown2  MarkDown3  \\\n",
       "0      1 2010-02-05        42.31       2.572        0.0        0.0        0.0   \n",
       "1      1 2010-02-05        42.31       2.572        0.0        0.0        0.0   \n",
       "2      1 2010-02-05        42.31       2.572        0.0        0.0        0.0   \n",
       "3      1 2010-02-05        42.31       2.572        0.0        0.0        0.0   \n",
       "4      1 2010-02-05        42.31       2.572        0.0        0.0        0.0   \n",
       "\n",
       "   MarkDown4  MarkDown5         CPI  Unemployment  IsHoliday_x  Dept  \\\n",
       "0        0.0        0.0  211.096358         8.106            0     1   \n",
       "1        0.0        0.0  211.096358         8.106            0     2   \n",
       "2        0.0        0.0  211.096358         8.106            0     3   \n",
       "3        0.0        0.0  211.096358         8.106            0     4   \n",
       "4        0.0        0.0  211.096358         8.106            0     5   \n",
       "\n",
       "   Weekly_Sales  IsHoliday_y  Type    Size  month  year  day  \n",
       "0      24924.50            0     0  151315      2  2010    5  \n",
       "1      50605.27            0     0  151315      2  2010    5  \n",
       "2      13740.12            0     0  151315      2  2010    5  \n",
       "3      39954.04            0     0  151315      2  2010    5  \n",
       "4      32229.38            0     0  151315      2  2010    5  "
      ]
     },
     "execution_count": 43,
     "metadata": {},
     "output_type": "execute_result"
    }
   ],
   "source": [
    "df1['month'] = df1['Date'].dt.month\n",
    "df1['year'] = df1['Date'].dt.year\n",
    "df1['day'] = df1['Date'].dt.day\n",
    "df1.head()"
   ]
  },
  {
   "cell_type": "code",
   "execution_count": 44,
   "metadata": {},
   "outputs": [],
   "source": [
    "df1= df1.drop(columns=['Date'])"
   ]
  },
  {
   "cell_type": "markdown",
   "metadata": {},
   "source": [
    "# Machine Learning"
   ]
  },
  {
   "cell_type": "code",
   "execution_count": 45,
   "metadata": {},
   "outputs": [],
   "source": [
    "x=df1.drop(\"Weekly_Sales\",axis=1)\n",
    "y=df1[\"Weekly_Sales\"]\n",
    "     "
   ]
  },
  {
   "cell_type": "code",
   "execution_count": 46,
   "metadata": {},
   "outputs": [],
   "source": [
    "x_train,x_test,y_train,y_test=train_test_split(x,y,test_size=0.25, random_state=42)"
   ]
  },
  {
   "cell_type": "code",
   "execution_count": null,
   "metadata": {},
   "outputs": [
    {
     "data": {
      "text/plain": [
       "(0.08742832496002395, 0.0881809045269929)"
      ]
     },
     "execution_count": 47,
     "metadata": {},
     "output_type": "execute_result"
    }
   ],
   "source": [
    "\n",
    "from sklearn.linear_model import LinearRegression\n",
    "Model1=LinearRegression().fit(x_train,y_train)\n",
    "y_pred_train = Model1.predict(x_train)\n",
    "y_pred_test = Model1.predict(x_test)\n",
    "\n",
    "r2_train = r2_score(y_train, y_pred_train)\n",
    "r2_test = r2_score(y_test, y_pred_test)\n",
    "\n",
    "r2_train, r2_test"
   ]
  },
  {
   "cell_type": "code",
   "execution_count": null,
   "metadata": {},
   "outputs": [],
   "source": [
    "from sklearn.metrics import top_k_accuracy_score, precision_score, recall_score, accuracy_score,  confusion_matrix  # Classification\n",
    "     "
   ]
  },
  {
   "cell_type": "code",
   "execution_count": null,
   "metadata": {},
   "outputs": [],
   "source": [
    "class Classification_models:\n",
    "  def __init__(self,x_train,x_test,y_train,y_test):\n",
    "    self.x_train = x_train\n",
    "    self.x_test = x_test\n",
    "    self.y_train = y_train\n",
    "    self.y_test = y_test\n",
    "\n",
    "  def decisiontree(self):\n",
    "    from sklearn.tree import DecisionTreeClassifier\n",
    "    model = DecisionTreeClassifier().fit(x_train,y_train)\n",
    "    y_pred = model.predict(x_test)\n",
    "    accuracy = accuracy_score(y_test,y_pred)\n",
    "    print('Decision Tree Classifier accuracy score: ',accuracy)\n",
    "    return accuracy\n",
    "\n",
    "  def RandomForestClassifier(self):\n",
    "    from sklearn.ensemble import RandomForestClassifier\n",
    "    model = RandomForestClassifier().fit(x_train,y_train)\n",
    "    y_pred = model.predict(x_test)\n",
    "    accuracy = accuracy_score(y_test,y_pred)\n",
    "    print('Random Forest Classifier accuracy score: ',accuracy)\n",
    "    return accuracy\n",
    "\n",
    "  def Logistic(self):\n",
    "    from sklearn.linear_model import LogisticRegression\n",
    "    model = LogisticRegression().fit(x_train,y_train)\n",
    "    y_pred = model.predict(x_test)\n",
    "    accuracy = accuracy_score(y_test,y_pred)\n",
    "    print('Random Forest Classifier accuracy score: ',accuracy)\n",
    "    return accuracy\n",
    "  def SupertVector(self):\n",
    "    from sklearn import svm\n",
    "    model = svm.SVC().fit(x_train,y_train)\n",
    "    y_pred = model.predict(x_test)\n",
    "    accuracy = accuracy_score(y_test,y_pred)\n",
    "    print('Support vector machines accuracy score: ',accuracy)\n",
    "    return accuracy\n",
    "\n",
    "  def KNeighborsClassifier(self):\n",
    "    from sklearn.neighbors import KNeighborsClassifier\n",
    "    model = KNeighborsClassifier().fit(x_train,y_train)\n",
    "    y_pred = model.predict(x_test)\n",
    "    accuracy = accuracy_score(y_test,y_pred)\n",
    "    print('KNeighbors Classifier accuracy score: ',accuracy)\n",
    "    return accuracy\n",
    "\n",
    "  def GaussianNaiveBayes(self):\n",
    "    from sklearn.naive_bayes import GaussianNB\n",
    "    model=GaussianNB().fit(x_train,y_train)\n",
    "    y_pred = model.predict(x_test)\n",
    "    accuracy = accuracy_score(y_test,y_pred)\n",
    "    print(\"Naive Bayes Classifier accuracy score: \",accuracy)\n",
    "    return accuracy\n",
    "\n",
    "  def GradientBoosting(self):\n",
    "    from sklearn.ensemble import GradientBoostingClassifier\n",
    "    model = GradientBoostingClassifier().fit(x_train,y_train)\n",
    "    y_pred = model.predict(x_test)\n",
    "    accuracy  = accuracy_score(y_test,y_pred)\n",
    "    print(\"Gradient Boosting Classifier accuracy score: \",accuracy)\n",
    "    return accuracy\n",
    "def AdaBoost(self):\n",
    "    from sklearn.ensemble import AdaBoostClassifier\n",
    "    model = AdaBoostClassifier().fit(x_train,y_train)\n",
    "    y_pred = model.predict(x_test)\n",
    "    accuracy = accuracy_score(y_test,y_pred)\n",
    "    print(\"AdaBoost Classifier accuracy score: \",accuracy)\n",
    "    return accuracy\n",
    "\n",
    "def SGDClassifier(self):\n",
    "    from sklearn.linear_model import SGDClassifier\n",
    "    model = SGDClassifier().fit(x_train,y_train)\n",
    "    y_pred = model.predict(x_test)\n",
    "    accuracy = accuracy_score(y_test,y_pred)\n",
    "    print(\"SGD Classifier accuracy score: \",accuracy)\n",
    "    return accuracy\n",
    "\n",
    "def MLPClassifier(self):\n",
    "    from sklearn.neural_network import MLPClassifier\n",
    "    model = MLPClassifier().fit(x_train,y_train)\n",
    "    y_pred = model.predict(x_test)\n",
    "    accuracy = accuracy_score(y_test,y_pred)\n",
    "    print(\"Neural network models accuracy score: \",accuracy)\n",
    "    return accuracy\n",
    "\n",
    "def NearestCentroid(self):\n",
    "    from sklearn.neighbors import NearestCentroid\n",
    "    model = NearestCentroid().fit(x_train,y_train)\n",
    "    y_pred = model.predict(x_test)\n",
    "    accuracy = accuracy_score(y_test,y_pred)\n",
    "    print(\"Nearest Neighbors accuracy score: \",accuracy)\n",
    "    return accuracy\n",
    "def LGBMClassifier(self):\n",
    "    from lightgbm import LGBMClassifier\n",
    "    model = LGBMClassifier().fit(x_train,y_train)\n",
    "    y_pred = model.predict(x_test)\n",
    "    accuracy = accuracy_score(y_test,y_pred)\n",
    "    print(\"LGBM Classifier accuracy score: \",accuracy)\n",
    "    return accuracy"
   ]
  },
  {
   "cell_type": "code",
   "execution_count": null,
   "metadata": {},
   "outputs": [],
   "source": [
    "model = Classification_models(x_train,x_test,y_train,y_test)\n",
    "accuracy_scores = {\n",
    "    'DecisionTree': model.decisiontree(),\n",
    "    'RandomForest': model.RandomForestClassifier(),\n",
    "    'SupertVector': model.SupertVector(),\n",
    "    'KNeighborsClassifier' : model.KNeighborsClassifier(),\n",
    "    'GaussianNaiveBayes' : model.GaussianNaiveBayes(),\n",
    "    'GradientBoosting' : model.GradientBoosting(),\n",
    "    'AdaBoost' : model.AdaBoost(),\n",
    "    'SGDClassifier' : model.SGDClassifier(),\n",
    "    'MLPClassifier' : model.MLPClassifier(),\n",
    "    'NearestCentroid' : model.NearestCentroid(),\n",
    "    'LGBMClassifier' : model.LGBMClassifier(),\n",
    "    'Logistic' : model.Logistic()}\n",
    "\n",
    "max_score_classifier = max(accuracy_scores, key=accuracy_scores.get)\n",
    "max_accuracy_score = accuracy_scores[max_score_classifier]\n",
    "\n",
    "print(f\"\\nMaximum accuracy score: {max_accuracy_score:.4f} achieved by {max_score_classifier} classifier.\\n\")"
   ]
  }
 ],
 "metadata": {
  "kernelspec": {
   "display_name": ".venv",
   "language": "python",
   "name": "python3"
  },
  "language_info": {
   "codemirror_mode": {
    "name": "ipython",
    "version": 3
   },
   "file_extension": ".py",
   "mimetype": "text/x-python",
   "name": "python",
   "nbconvert_exporter": "python",
   "pygments_lexer": "ipython3",
   "version": "3.11.9"
  }
 },
 "nbformat": 4,
 "nbformat_minor": 2
}
